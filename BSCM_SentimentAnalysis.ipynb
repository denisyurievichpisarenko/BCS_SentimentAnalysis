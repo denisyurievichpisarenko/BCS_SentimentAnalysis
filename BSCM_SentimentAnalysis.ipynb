{
 "cells": [
  {
   "cell_type": "markdown",
   "id": "0427acc9",
   "metadata": {},
   "source": [
    "# Negation and sentiment in BCS"
   ]
  },
  {
   "cell_type": "markdown",
   "id": "e88a729f",
   "metadata": {},
   "source": [
    "In sentiment analysis tasks, it is essential to account for the occurences of negation: sentences containing negation tend rather to be labelled negative (Wiegand et al. 2010, Jia et al. 2009, Sharif et al. 2016 i. a). Besides sentential negation, the negative markers which may affect the labelling of the sentence, may include narrow scope negation in expressions like \"not only\" (Jia et al. 2009). The aim of this study is to predict the correct label for the sentences accounting for both wide-scope sentential negation and narrow scope lexical negation in nouns and adjectives (like English un- in \"unhappy\").\n",
    "\n",
    "I focus on the data from Bosnian, Croatian, and Serbian languages, uniformly treated as BCS here (the minor differences between those languages are not essential for the analysis) for several main reasons. Firstly, I speak BCS a bit :). Secondly, the extraction of constituent (i.e. narrow scope) negation in BCS is quite intuitive, as well as the extraction of sentential negation: unlike. for instance, English or Greek, Slavic languages have relatively small range of negative markers. In BCS, those are ne- prefix in adjectives/nouns, free-standing sentential \"ne\", and ne- prefix in auxiliary verbs. Finally, despite the fact that BCS there are some surveys on sentiment analysis on BCS (Ljajić & Marovac 2019, Jahić & Vičič 2023), the influence of constituent negation (especially adjectival and nominal) does not seem to be discussed thoroughly. Not pretending to make a full-fledged research project, I hope to come up with some interesting observations.\n",
    "\n",
    "This survey explores the corpus of parliamentary debates ParlaSent-BCS v1.0 (https://www.clarin.eu/resource-families/parliamentary-corpora). The corpus contains more than 2,000 sentences collected from parliamentary speech in BCSM. For each sentence, the metadata is provided such as date, number of document, country, the characteristics of the speaker (name, gender, party, etc). Each sentence is annotated by two native speakers as positive, negative or neutral."
   ]
  },
  {
   "cell_type": "code",
   "execution_count": 231,
   "id": "36b40034",
   "metadata": {},
   "outputs": [],
   "source": [
    "#for analysis\n",
    "\n",
    "import pandas as pd\n",
    "import matplotlib.pyplot as plt\n",
    "import matplotlib.patches as mpatches\n",
    "import numpy as np\n",
    "import seaborn as sns"
   ]
  },
  {
   "cell_type": "code",
   "execution_count": 232,
   "id": "583c81ff",
   "metadata": {},
   "outputs": [],
   "source": [
    "#for preprocessing \n",
    "\n",
    "import spacy\n",
    "from spacy import displacy\n",
    "from collections import Counter\n",
    "nlp = spacy.load(\"hr_core_news_sm\")"
   ]
  },
  {
   "cell_type": "code",
   "execution_count": 233,
   "id": "bdc4d866",
   "metadata": {},
   "outputs": [],
   "source": [
    "#for machine learning\n",
    "\n",
    "from sklearn.feature_extraction.text import CountVectorizer\n",
    "from sklearn.model_selection import train_test_split\n",
    "from sklearn.utils import shuffle\n",
    "from sklearn.linear_model import LogisticRegression\n",
    "from sklearn.model_selection import cross_val_score\n",
    "from sklearn.tree import DecisionTreeClassifier\n",
    "from sklearn.model_selection import GridSearchCV, StratifiedShuffleSplit\n",
    "from sklearn import svm\n",
    "from sklearn.metrics import f1_score\n",
    "from sklearn.metrics import ConfusionMatrixDisplay, confusion_matrix\n",
    "from sklearn.feature_extraction.text import TfidfVectorizer"
   ]
  },
  {
   "cell_type": "markdown",
   "id": "aad4dc62",
   "metadata": {},
   "source": [
    "## Explanatory data analysis"
   ]
  },
  {
   "cell_type": "markdown",
   "id": "63aa16f3",
   "metadata": {},
   "source": [
    "Firstly, let us have a look at the dataset"
   ]
  },
  {
   "cell_type": "code",
   "execution_count": 234,
   "id": "98eb033c",
   "metadata": {},
   "outputs": [],
   "source": [
    "#dataset\n",
    "df = pd.read_json('ParlaSent-BCS.jsonl', lines=True)"
   ]
  },
  {
   "cell_type": "code",
   "execution_count": 235,
   "id": "fc2817fd",
   "metadata": {},
   "outputs": [
    {
     "data": {
      "text/html": [
       "<div>\n",
       "<style scoped>\n",
       "    .dataframe tbody tr th:only-of-type {\n",
       "        vertical-align: middle;\n",
       "    }\n",
       "\n",
       "    .dataframe tbody tr th {\n",
       "        vertical-align: top;\n",
       "    }\n",
       "\n",
       "    .dataframe thead th {\n",
       "        text-align: right;\n",
       "    }\n",
       "</style>\n",
       "<table border=\"1\" class=\"dataframe\">\n",
       "  <thead>\n",
       "    <tr style=\"text-align: right;\">\n",
       "      <th></th>\n",
       "      <th>sentence</th>\n",
       "      <th>country</th>\n",
       "      <th>round</th>\n",
       "      <th>annotator1</th>\n",
       "      <th>annotator2</th>\n",
       "      <th>reconciliation</th>\n",
       "      <th>label</th>\n",
       "      <th>document_id</th>\n",
       "      <th>sentence_id</th>\n",
       "      <th>date</th>\n",
       "      <th>name</th>\n",
       "      <th>party</th>\n",
       "      <th>gender</th>\n",
       "      <th>birth_year</th>\n",
       "      <th>split</th>\n",
       "    </tr>\n",
       "  </thead>\n",
       "  <tbody>\n",
       "    <tr>\n",
       "      <th>0</th>\n",
       "      <td>Ja shvatam da međunarodna zajednica i oni koji...</td>\n",
       "      <td>BiH</td>\n",
       "      <td>first</td>\n",
       "      <td>Negative</td>\n",
       "      <td>M_Negative</td>\n",
       "      <td>None</td>\n",
       "      <td>Negative</td>\n",
       "      <td>3055</td>\n",
       "      <td>4</td>\n",
       "      <td>19991110</td>\n",
       "      <td>Špirić, Nikola</td>\n",
       "      <td>SDS</td>\n",
       "      <td>M</td>\n",
       "      <td>1956.0</td>\n",
       "      <td>train</td>\n",
       "    </tr>\n",
       "    <tr>\n",
       "      <th>1</th>\n",
       "      <td>Npr. mene i moje braće, npr. mi tražimo našu i...</td>\n",
       "      <td>BiH</td>\n",
       "      <td>first</td>\n",
       "      <td>Negative</td>\n",
       "      <td>Negative</td>\n",
       "      <td>None</td>\n",
       "      <td>Negative</td>\n",
       "      <td>13704</td>\n",
       "      <td>8</td>\n",
       "      <td>20020417</td>\n",
       "      <td>Kulenović, Salih</td>\n",
       "      <td>SDA</td>\n",
       "      <td>M</td>\n",
       "      <td>1944.0</td>\n",
       "      <td>test</td>\n",
       "    </tr>\n",
       "    <tr>\n",
       "      <th>2</th>\n",
       "      <td>Pa normalno da nije, ali vidite, pustite kad m...</td>\n",
       "      <td>BiH</td>\n",
       "      <td>first</td>\n",
       "      <td>Negative</td>\n",
       "      <td>Negative</td>\n",
       "      <td>None</td>\n",
       "      <td>Negative</td>\n",
       "      <td>22174</td>\n",
       "      <td>1</td>\n",
       "      <td>20030103</td>\n",
       "      <td>Lagumdžija, Zlatko</td>\n",
       "      <td>SDP BiH</td>\n",
       "      <td>M</td>\n",
       "      <td>1955.0</td>\n",
       "      <td>train</td>\n",
       "    </tr>\n",
       "    <tr>\n",
       "      <th>3</th>\n",
       "      <td>Pomoći ovim ljudima, da danas ti ljudi mogu i ...</td>\n",
       "      <td>BiH</td>\n",
       "      <td>first</td>\n",
       "      <td>Negative</td>\n",
       "      <td>Negative</td>\n",
       "      <td>None</td>\n",
       "      <td>Negative</td>\n",
       "      <td>28022</td>\n",
       "      <td>13</td>\n",
       "      <td>20040521</td>\n",
       "      <td>Gligorić, Tihomir</td>\n",
       "      <td>SPRS</td>\n",
       "      <td>M</td>\n",
       "      <td>1955.0</td>\n",
       "      <td>train</td>\n",
       "    </tr>\n",
       "    <tr>\n",
       "      <th>4</th>\n",
       "      <td>Dakle, uz puno uvažavanje, ovo što zna element...</td>\n",
       "      <td>BiH</td>\n",
       "      <td>first</td>\n",
       "      <td>Negative</td>\n",
       "      <td>Negative</td>\n",
       "      <td>None</td>\n",
       "      <td>Negative</td>\n",
       "      <td>34063</td>\n",
       "      <td>15</td>\n",
       "      <td>20050719</td>\n",
       "      <td>Lagumdžija, Zlatko</td>\n",
       "      <td>SDP BiH</td>\n",
       "      <td>M</td>\n",
       "      <td>1955.0</td>\n",
       "      <td>train</td>\n",
       "    </tr>\n",
       "    <tr>\n",
       "      <th>5</th>\n",
       "      <td>Svi relevantni međunarodni faktori, MMF, Svjet...</td>\n",
       "      <td>BiH</td>\n",
       "      <td>first</td>\n",
       "      <td>Positive</td>\n",
       "      <td>Positive</td>\n",
       "      <td>None</td>\n",
       "      <td>Positive</td>\n",
       "      <td>52453</td>\n",
       "      <td>5</td>\n",
       "      <td>20070613</td>\n",
       "      <td>Bahtić, Sadik</td>\n",
       "      <td>SBiH</td>\n",
       "      <td>M</td>\n",
       "      <td>1957.0</td>\n",
       "      <td>dev</td>\n",
       "    </tr>\n",
       "    <tr>\n",
       "      <th>6</th>\n",
       "      <td>Tačno je da on nije najbolji i tačno je da on ...</td>\n",
       "      <td>BiH</td>\n",
       "      <td>first</td>\n",
       "      <td>M_Positive</td>\n",
       "      <td>Negative</td>\n",
       "      <td>M_Negative</td>\n",
       "      <td>Negative</td>\n",
       "      <td>52659</td>\n",
       "      <td>10</td>\n",
       "      <td>20070613</td>\n",
       "      <td>Živković, Milorad</td>\n",
       "      <td>SNSD</td>\n",
       "      <td>M</td>\n",
       "      <td>1963.0</td>\n",
       "      <td>train</td>\n",
       "    </tr>\n",
       "    <tr>\n",
       "      <th>7</th>\n",
       "      <td>Amandman X. gdje ćemo vidjeti kakva nam je zai...</td>\n",
       "      <td>BiH</td>\n",
       "      <td>first</td>\n",
       "      <td>N_Neutral</td>\n",
       "      <td>N_Neutral</td>\n",
       "      <td>None</td>\n",
       "      <td>Neutral</td>\n",
       "      <td>55190</td>\n",
       "      <td>14</td>\n",
       "      <td>20071011</td>\n",
       "      <td>Bećirović, Denis</td>\n",
       "      <td>SDP BiH</td>\n",
       "      <td>M</td>\n",
       "      <td>1975.0</td>\n",
       "      <td>test</td>\n",
       "    </tr>\n",
       "    <tr>\n",
       "      <th>8</th>\n",
       "      <td>Ovaj odgovor će gospodin zastupnik dobiti prec...</td>\n",
       "      <td>BiH</td>\n",
       "      <td>first</td>\n",
       "      <td>N_Neutral</td>\n",
       "      <td>N_Neutral</td>\n",
       "      <td>None</td>\n",
       "      <td>Neutral</td>\n",
       "      <td>70966</td>\n",
       "      <td>2</td>\n",
       "      <td>20091014</td>\n",
       "      <td>Čolak, Bariša</td>\n",
       "      <td>None</td>\n",
       "      <td>None</td>\n",
       "      <td>NaN</td>\n",
       "      <td>train</td>\n",
       "    </tr>\n",
       "    <tr>\n",
       "      <th>9</th>\n",
       "      <td>Gospodine Ljubiću, Vi pripadate grupi samoprog...</td>\n",
       "      <td>BiH</td>\n",
       "      <td>first</td>\n",
       "      <td>Negative</td>\n",
       "      <td>Negative</td>\n",
       "      <td>None</td>\n",
       "      <td>Negative</td>\n",
       "      <td>85628</td>\n",
       "      <td>6</td>\n",
       "      <td>20111222</td>\n",
       "      <td>Dervoz, Ismeta</td>\n",
       "      <td>SBB</td>\n",
       "      <td>F</td>\n",
       "      <td>1954.0</td>\n",
       "      <td>train</td>\n",
       "    </tr>\n",
       "  </tbody>\n",
       "</table>\n",
       "</div>"
      ],
      "text/plain": [
       "                                            sentence country  round  \\\n",
       "0  Ja shvatam da međunarodna zajednica i oni koji...     BiH  first   \n",
       "1  Npr. mene i moje braće, npr. mi tražimo našu i...     BiH  first   \n",
       "2  Pa normalno da nije, ali vidite, pustite kad m...     BiH  first   \n",
       "3  Pomoći ovim ljudima, da danas ti ljudi mogu i ...     BiH  first   \n",
       "4  Dakle, uz puno uvažavanje, ovo što zna element...     BiH  first   \n",
       "5  Svi relevantni međunarodni faktori, MMF, Svjet...     BiH  first   \n",
       "6  Tačno je da on nije najbolji i tačno je da on ...     BiH  first   \n",
       "7  Amandman X. gdje ćemo vidjeti kakva nam je zai...     BiH  first   \n",
       "8  Ovaj odgovor će gospodin zastupnik dobiti prec...     BiH  first   \n",
       "9  Gospodine Ljubiću, Vi pripadate grupi samoprog...     BiH  first   \n",
       "\n",
       "   annotator1  annotator2 reconciliation     label  document_id  sentence_id  \\\n",
       "0    Negative  M_Negative           None  Negative         3055            4   \n",
       "1    Negative    Negative           None  Negative        13704            8   \n",
       "2    Negative    Negative           None  Negative        22174            1   \n",
       "3    Negative    Negative           None  Negative        28022           13   \n",
       "4    Negative    Negative           None  Negative        34063           15   \n",
       "5    Positive    Positive           None  Positive        52453            5   \n",
       "6  M_Positive    Negative     M_Negative  Negative        52659           10   \n",
       "7   N_Neutral   N_Neutral           None   Neutral        55190           14   \n",
       "8   N_Neutral   N_Neutral           None   Neutral        70966            2   \n",
       "9    Negative    Negative           None  Negative        85628            6   \n",
       "\n",
       "       date                name    party gender  birth_year  split  \n",
       "0  19991110      Špirić, Nikola      SDS      M      1956.0  train  \n",
       "1  20020417    Kulenović, Salih      SDA      M      1944.0   test  \n",
       "2  20030103  Lagumdžija, Zlatko  SDP BiH      M      1955.0  train  \n",
       "3  20040521   Gligorić, Tihomir     SPRS      M      1955.0  train  \n",
       "4  20050719  Lagumdžija, Zlatko  SDP BiH      M      1955.0  train  \n",
       "5  20070613       Bahtić, Sadik     SBiH      M      1957.0    dev  \n",
       "6  20070613   Živković, Milorad     SNSD      M      1963.0  train  \n",
       "7  20071011    Bećirović, Denis  SDP BiH      M      1975.0   test  \n",
       "8  20091014       Čolak, Bariša     None   None         NaN  train  \n",
       "9  20111222      Dervoz, Ismeta      SBB      F      1954.0  train  "
      ]
     },
     "execution_count": 235,
     "metadata": {},
     "output_type": "execute_result"
    }
   ],
   "source": [
    "df.head(10)"
   ]
  },
  {
   "cell_type": "markdown",
   "id": "6a786022",
   "metadata": {},
   "source": [
    "Besides the very text of the sentence, there is some meta-information on the speakers (name, date of birth, gender, party affiliation, etc), as well as the country: Bosnia and Herzegivina, Croatia or Serbia. The column \"split\" indicates whether the sentence belonged to the train/validation set or to the test set in the original dataset (I do not plan to pay attention to this division, and will resplit it by myself randomly)."
   ]
  },
  {
   "cell_type": "code",
   "execution_count": 236,
   "id": "371105d9",
   "metadata": {},
   "outputs": [
    {
     "name": "stdout",
     "output_type": "stream",
     "text": [
      "The size of the data:  (2600, 15)\n"
     ]
    }
   ],
   "source": [
    "print('The size of the data: ', df.shape) #rows, columns"
   ]
  },
  {
   "cell_type": "markdown",
   "id": "dac4276f",
   "metadata": {},
   "source": [
    "Count the unique values for each variable"
   ]
  },
  {
   "cell_type": "code",
   "execution_count": 237,
   "id": "5e2c4878",
   "metadata": {},
   "outputs": [
    {
     "data": {
      "text/plain": [
       "sentence          2595\n",
       "country              3\n",
       "round                2\n",
       "annotator1           6\n",
       "annotator2           6\n",
       "reconciliation       6\n",
       "label                3\n",
       "document_id       2540\n",
       "sentence_id        132\n",
       "date              1442\n",
       "name               877\n",
       "party               77\n",
       "gender               2\n",
       "birth_year          57\n",
       "split                3\n",
       "dtype: int64"
      ]
     },
     "execution_count": 237,
     "metadata": {},
     "output_type": "execute_result"
    }
   ],
   "source": [
    "df.nunique()"
   ]
  },
  {
   "cell_type": "markdown",
   "id": "c01425c6",
   "metadata": {},
   "source": [
    "Check for null values"
   ]
  },
  {
   "cell_type": "code",
   "execution_count": 238,
   "id": "d3081621",
   "metadata": {},
   "outputs": [
    {
     "data": {
      "text/plain": [
       "sentence             0\n",
       "country              0\n",
       "round                0\n",
       "annotator1        1300\n",
       "annotator2           0\n",
       "reconciliation    2393\n",
       "label                0\n",
       "document_id          0\n",
       "sentence_id          0\n",
       "date                 0\n",
       "name                 0\n",
       "party              338\n",
       "gender             225\n",
       "birth_year         225\n",
       "split                0\n",
       "dtype: int64"
      ]
     },
     "execution_count": 238,
     "metadata": {},
     "output_type": "execute_result"
    }
   ],
   "source": [
    "df.isna().sum()"
   ]
  },
  {
   "cell_type": "markdown",
   "id": "0878ca2f",
   "metadata": {},
   "source": [
    "Among all of the variables, only two are essential for us: the sentence (namely, the linguistic content) and the final label. Fortunately, no NAs are found in these columns.\n",
    "\n",
    "Let's figure out the distribution of labels in the data."
   ]
  },
  {
   "cell_type": "code",
   "execution_count": 239,
   "id": "8286d002",
   "metadata": {},
   "outputs": [],
   "source": [
    "neg_sents = df[df['label'] == 'Negative']['sentence'] #only sentences labeled negative\n",
    "pos_sents = df[df['label'] == 'Positive']['sentence'] #only sentences labeled positive\n",
    "neut_sents = df[df['label'] == 'Neutral']['sentence'] #only sentences labeled neutral"
   ]
  },
  {
   "cell_type": "code",
   "execution_count": 240,
   "id": "1c1a8548",
   "metadata": {},
   "outputs": [
    {
     "name": "stdout",
     "output_type": "stream",
     "text": [
      "Negative: 1358\n",
      "Positive: 470\n",
      "Neutral: 772\n"
     ]
    }
   ],
   "source": [
    "print('Negative:', len(neg_sents))\n",
    "print('Positive:', len(pos_sents))\n",
    "print('Neutral:', len(neut_sents))"
   ]
  },
  {
   "cell_type": "code",
   "execution_count": 241,
   "id": "21e252cd",
   "metadata": {},
   "outputs": [
    {
     "data": {
      "image/png": "[encoded data removed]",
      "text/plain": [
       "<Figure size 432x288 with 1 Axes>"
      ]
     },
     "metadata": {},
     "output_type": "display_data"
    }
   ],
   "source": [
    "labels = 'Negative', 'Positive', 'Neutral'\n",
    "sizes = [len(neg_sents), len(pos_sents), len(neut_sents)]\n",
    "\n",
    "fig, ax = plt.subplots()\n",
    "ax.pie(sizes, labels=labels)\n",
    "plt.title('Distribution of labels')\n",
    "plt.show()"
   ]
  },
  {
   "cell_type": "markdown",
   "id": "3fd74072",
   "metadata": {},
   "source": [
    "Both positive and neutral sentences together form about a half of the data. Negative sentences form another half of the data. Given that positive and neutral sentences are fairly uncommon in comparison to negative sentences, I would focus on binary classification: negative vs non-negative sentences (i.e. I would treat neutral and positive sentences uniformly)\n",
    "\n",
    "It may be useful to check how balanced data is. Let us review the distribution of labels across countries:"
   ]
  },
  {
   "cell_type": "code",
   "execution_count": 242,
   "id": "4c53c5b4",
   "metadata": {},
   "outputs": [
    {
     "data": {
      "image/png": "[encoded data removed]",
      "text/plain": [
       "<Figure size 512.875x432 with 1 Axes>"
      ]
     },
     "metadata": {
      "needs_background": "light"
     },
     "output_type": "display_data"
    }
   ],
   "source": [
    "grouped = df.groupby(['country', 'label'], as_index=False).agg({'sentence':'count'}).rename(columns={'sentence':'entries'})\n",
    "\n",
    "g = sns.catplot(data=grouped, kind=\"bar\", x=\"country\", y=\"entries\", hue=\"label\", \n",
    "                palette=\"bright\", alpha=.6, height=6).set(title='Labels across countries')\n",
    "#g.despine(left=True)\n",
    "g.set_axis_labels(\"Country\", \"Number of entries\")\n",
    "g.legend.set_title(\"Sentence rating across countries\")\n",
    "plt.legend(bbox_to_anchor=(1.25, 1), loc=2, borderaxespad=0.)\n",
    "plt.show()"
   ]
  },
  {
   "cell_type": "markdown",
   "id": "b4101cfb",
   "metadata": {},
   "source": [
    "Across all three countries, negative rated sentences seem to prevail. Are there any imbalances due to gender?"
   ]
  },
  {
   "cell_type": "markdown",
   "id": "f2e9ef8e",
   "metadata": {},
   "source": [
    "The vast majority of speech is produced by male deputies, so the heatmap is normalized: it shows which fraction of the whole amount of sentences uttered by female/male representatives have a given label. However, as seen from the following plot, three labels are distributed similarly across the genders:"
   ]
  },
  {
   "cell_type": "code",
   "execution_count": 243,
   "id": "fe5af2d1",
   "metadata": {},
   "outputs": [
    {
     "data": {
      "image/png": "[encoded data removed]",
      "text/plain": [
       "<Figure size 432x288 with 2 Axes>"
      ]
     },
     "metadata": {
      "needs_background": "light"
     },
     "output_type": "display_data"
    }
   ],
   "source": [
    "gend = df.dropna(subset=['gender']).\\\n",
    "            groupby(['gender', 'label'], as_index=False).\\\n",
    "            agg({'sentence':'count'}).\\\n",
    "            pivot(index='gender', columns='label', values='sentence')\n",
    "\n",
    "gend = gend.div(gend.sum(axis=1), axis=0)\n",
    "\n",
    "sns.heatmap(gend, annot=True, fmt=\".3f\").set(title='Labels across genders')\n",
    "plt.show()"
   ]
  },
  {
   "cell_type": "markdown",
   "id": "4aace53b",
   "metadata": {},
   "source": [
    "Negative sentences prevail in speech of both female and male speakers, so the data is relatively balanced with respect to gender and country variables. Finally, let's look at the distribution of labels among parties. I tend to hypothesise that the majority of positive statements will come from the ruling parties, while the majority of negative ones from the opposition."
   ]
  },
  {
   "cell_type": "code",
   "execution_count": 244,
   "id": "fe5535c5",
   "metadata": {},
   "outputs": [],
   "source": [
    "#Grouping the data by parties\n",
    "\n",
    "def group_by_parties(df):\n",
    "    return df.groupby(['party', 'label'], as_index=False).agg({'sentence':'count'}).rename(columns={'sentence':'count'})\n",
    "\n",
    "bih = group_by_parties(df[df['country']=='BiH'])\n",
    "hr = group_by_parties(df[df['country']=='HR'])\n",
    "srb = group_by_parties(df[df['country']=='SRB'])"
   ]
  },
  {
   "cell_type": "code",
   "execution_count": 245,
   "id": "321eaf4c",
   "metadata": {},
   "outputs": [],
   "source": [
    "#making a pivot table and a plot\n",
    "\n",
    "def build_pivot(df, countryname):\n",
    "    pvt = df.pivot_table(values='count', index='label', columns='party').fillna(0)\n",
    "    pvt = pvt.div(pvt.sum(axis=1), axis=0)\n",
    "    plt = pvt.reset_index().plot(x = 'label', kind = 'barh', stacked = True, \n",
    "                                 title = 'Labels by parties: {}'.format(countryname), mark_right = True)\n",
    "    plt.legend(bbox_to_anchor=(1.1, 1.05))\n",
    "    plt"
   ]
  },
  {
   "cell_type": "code",
   "execution_count": 246,
   "id": "fe410f44",
   "metadata": {},
   "outputs": [
    {
     "data": {
      "image/png": "[encoded data removed]",
      "text/plain": [
       "<Figure size 432x288 with 1 Axes>"
      ]
     },
     "metadata": {
      "needs_background": "light"
     },
     "output_type": "display_data"
    }
   ],
   "source": [
    "build_pivot(bih, 'Bosnia and Herzegovina')"
   ]
  },
  {
   "cell_type": "code",
   "execution_count": 247,
   "id": "a88608dc",
   "metadata": {},
   "outputs": [
    {
     "data": {
      "image/png": "[encoded data removed]",
      "text/plain": [
       "<Figure size 432x288 with 1 Axes>"
      ]
     },
     "metadata": {
      "needs_background": "light"
     },
     "output_type": "display_data"
    }
   ],
   "source": [
    "build_pivot(hr, 'Croatia')"
   ]
  },
  {
   "cell_type": "code",
   "execution_count": 248,
   "id": "1f79651f",
   "metadata": {},
   "outputs": [
    {
     "data": {
      "image/png": "[encoded data removed]",
      "text/plain": [
       "<Figure size 432x288 with 1 Axes>"
      ]
     },
     "metadata": {
      "needs_background": "light"
     },
     "output_type": "display_data"
    }
   ],
   "source": [
    "build_pivot(srb, 'Serbia')"
   ]
  },
  {
   "cell_type": "markdown",
   "id": "58a089e9",
   "metadata": {},
   "source": [
    "The hypothesis is confirmed for Croatia and Serbia. As HDZ and SNS are conservative parties ruling for years, they tend to talk about some positive stuff more than others. Among the greatest \"negative\" speakers, there are Serbian SRS (radical nationalists) and Croatian Social-Democratic party (the second party in the contry). Some populists also tend to produce negative sentences, like Croatian MOST.\n",
    "\n",
    "Probably, party is an only variable, besides text, which could be useful for label prediction. However, our task is a bit different and, fortunately, the political association does not explain the whole distribution. Let us explore the text data."
   ]
  },
  {
   "cell_type": "markdown",
   "id": "f9e04fd3",
   "metadata": {},
   "source": [
    "## Negation: count"
   ]
  },
  {
   "cell_type": "markdown",
   "id": "c1a8a651",
   "metadata": {},
   "source": [
    "Now let's initialize the function which detects if the word contains a negative marker, and if it does, which type of negation it belongs to. If it is a wide-scope negation, i. e. a verbal negation, including negative auxilliaries, it assigns 1. If it is a narrow-scope negation, which takes not verb but adjective or noun in its scope, it assigns 2. If there are no negative elements, it assigns 0.\n",
    "\n",
    "As a result, the word \"nisu\", which is the negative form of the copular verb \"biti\" (form for third person plural), will be labeled 1, while the word \"nesretan\" (unhappy) will be labeled 2. For POS tagging, I used the spacy model for Croatian (initialized at the beginning of the notebook as nlp)."
   ]
  },
  {
   "cell_type": "code",
   "execution_count": 249,
   "id": "fc65dfa0",
   "metadata": {},
   "outputs": [],
   "source": [
    "def detect_neg(sentence_series):\n",
    "    sents = []\n",
    "    for s in sentence_series:\n",
    "        words = []\n",
    "        doc = nlp(s) #spacy for pos tagging POS tagger\n",
    "        for p in [(X.text, X.pos_) for X in doc]:\n",
    "            neg = 0\n",
    "            if p[1] == 'AUX' and p[0].startswith('ni'):\n",
    "                neg = 1\n",
    "            elif p[0] == 'ne':\n",
    "                neg = 1\n",
    "            elif p[0] == 'ne':\n",
    "                neg = 1\n",
    "            elif p[1] in ('NOUN', 'ADJ') and p[0].startswith('ne'):\n",
    "                neg = 2\n",
    "            neg_tuple = (neg,)\n",
    "            p = p + neg_tuple\n",
    "            words.append(p)\n",
    "        sents.append(words)\n",
    "    return sents"
   ]
  },
  {
   "cell_type": "markdown",
   "id": "41a644a1",
   "metadata": {},
   "source": [
    "When applied to arrays containing sentences, the function returns the list of tuples containing the word and its part of speech tag."
   ]
  },
  {
   "cell_type": "code",
   "execution_count": 250,
   "id": "951a4043",
   "metadata": {},
   "outputs": [],
   "source": [
    "neg_arrays = detect_neg(neg_sents)\n",
    "pos_arrays = detect_neg(pos_sents)\n",
    "neut_arrays = detect_neg(neut_sents)"
   ]
  },
  {
   "cell_type": "code",
   "execution_count": 251,
   "id": "352da0ca",
   "metadata": {
    "scrolled": false
   },
   "outputs": [
    {
     "name": "stdout",
     "output_type": "stream",
     "text": [
      "('Ja', 'PRON', 0)\n",
      "('shvatam', 'VERB', 0)\n",
      "('da', 'SCONJ', 0)\n",
      "('međunarodna', 'ADJ', 0)\n",
      "('zajednica', 'NOUN', 0)\n",
      "('i', 'CCONJ', 0)\n",
      "('oni', 'DET', 0)\n",
      "('koji', 'DET', 0)\n",
      "('su', 'AUX', 0)\n",
      "('pomagali', 'VERB', 0)\n",
      "('ovome', 'DET', 0)\n",
      "('guraju', 'VERB', 0)\n",
      "('najjeftiniji', 'ADJ', 0)\n",
      "('projekat', 'NOUN', 0)\n",
      "('zato', 'SCONJ', 0)\n",
      "('što', 'SCONJ', 0)\n",
      "('nema', 'VERB', 0)\n",
      "('sredstava', 'NOUN', 0)\n",
      "('za', 'ADP', 0)\n",
      "('sve', 'ADJ', 0)\n",
      "('segmente', 'NOUN', 0)\n",
      "('.', 'PUNCT', 0)\n",
      "('za', 'ADP', 0)\n",
      "('uređenje', 'NOUN', 0)\n",
      "('i', 'CCONJ', 0)\n",
      "('demokratizaciju', 'NOUN', 0)\n",
      "('BiH', 'PROPN', 0)\n",
      "('u', 'ADP', 0)\n",
      "('cjelini', 'NOUN', 0)\n",
      "('.', 'PUNCT', 0)\n",
      "\n",
      "\n",
      "('Npr', 'PART', 0)\n",
      "('.', 'PART', 0)\n",
      "('mene', 'PRON', 0)\n",
      "('i', 'CCONJ', 0)\n",
      "('moje', 'ADJ', 0)\n",
      "('braće', 'NOUN', 0)\n",
      "(',', 'PUNCT', 0)\n",
      "('npr', 'PART', 0)\n",
      "('.', 'PART', 0)\n",
      "('mi', 'PRON', 0)\n",
      "('tražimo', 'VERB', 0)\n",
      "('našu', 'DET', 0)\n",
      "('imovinu', 'NOUN', 0)\n",
      "('od', 'ADP', 0)\n",
      "('29.1.1996.godine', 'NUM', 0)\n",
      "('do', 'ADP', 0)\n",
      "('20.3.2002.godine', 'NOUN', 0)\n",
      "('.', 'PUNCT', 0)\n",
      "\n",
      "\n",
      "('Pa', 'CCONJ', 0)\n",
      "('normalno', 'ADV', 0)\n",
      "('da', 'SCONJ', 0)\n",
      "('nije', 'AUX', 1)\n",
      "(',', 'PUNCT', 0)\n",
      "('ali', 'CCONJ', 0)\n",
      "('vidite', 'VERB', 0)\n",
      "(',', 'PUNCT', 0)\n",
      "('pustite', 'VERB', 0)\n",
      "('kad', 'ADV', 0)\n",
      "('meni', 'PRON', 0)\n",
      "('govori', 'VERB', 0)\n",
      "('da', 'SCONJ', 0)\n",
      "('narod', 'NOUN', 0)\n",
      "('nije', 'AUX', 1)\n",
      "('dao', 'VERB', 0)\n",
      "('atest', 'NOUN', 0)\n",
      "(',', 'PUNCT', 0)\n",
      "('a', 'CCONJ', 0)\n",
      "('onda', 'ADV', 0)\n",
      "('reagujete', 'VERB', 0)\n",
      "('na', 'ADP', 0)\n",
      "('Sadama', 'NOUN', 0)\n",
      "('Huseina', 'PROPN', 0)\n",
      "('jel', 'ADJ', 0)\n",
      "('.', 'PUNCT', 0)\n",
      "\n",
      "\n",
      "('Pomoći', 'VERB', 0)\n",
      "('ovim', 'DET', 0)\n",
      "('ljudima', 'NOUN', 0)\n",
      "(',', 'PUNCT', 0)\n",
      "('da', 'SCONJ', 0)\n",
      "('danas', 'ADV', 0)\n",
      "('ti', 'DET', 0)\n",
      "('ljudi', 'NOUN', 0)\n",
      "('mogu', 'VERB', 0)\n",
      "('i', 'CCONJ', 0)\n",
      "('ovdje', 'ADV', 0)\n",
      "('slušaju', 'VERB', 0)\n",
      "('i', 'CCONJ', 0)\n",
      "('smatrati', 'VERB', 0)\n",
      "('mene', 'PRON', 0)\n",
      "('kao', 'SCONJ', 0)\n",
      "('poslanika', 'NOUN', 0)\n",
      "('protivnikom', 'NOUN', 0)\n",
      "(',', 'PUNCT', 0)\n",
      "('ili', 'CCONJ', 0)\n",
      "('kako', 'SCONJ', 0)\n",
      "('su', 'AUX', 0)\n",
      "('oni', 'DET', 0)\n",
      "('u', 'ADP', 0)\n",
      "('svom', 'DET', 0)\n",
      "('dopisu', 'NOUN', 0)\n",
      "('rekli', 'VERB', 0)\n",
      "('neprijateljom', 'NOUN', 2)\n",
      "('domaće', 'ADJ', 0)\n",
      "('proizvodnje', 'NOUN', 0)\n",
      "('.', 'PUNCT', 0)\n",
      "\n",
      "\n",
      "('Dakle', 'CCONJ', 0)\n",
      "(',', 'PUNCT', 0)\n",
      "('uz', 'ADP', 0)\n",
      "('puno', 'ADJ', 0)\n",
      "('uvažavanje', 'NOUN', 0)\n",
      "(',', 'PUNCT', 0)\n",
      "('ovo', 'DET', 0)\n",
      "('što', 'PRON', 0)\n",
      "('zna', 'VERB', 0)\n",
      "('elementarno', 'ADV', 0)\n",
      "('informisan', 'ADJ', 0)\n",
      "('čovjek', 'NOUN', 0)\n",
      "(',', 'PUNCT', 0)\n",
      "('je', 'AUX', 0)\n",
      "('mnogo', 'ADV', 0)\n",
      "(',', 'PUNCT', 0)\n",
      "('mnogo', 'ADV', 0)\n",
      "('dramatičnije', 'NOUN', 0)\n",
      "('od', 'ADP', 0)\n",
      "('ovoga', 'DET', 0)\n",
      "('što', 'PRON', 0)\n",
      "('smo', 'AUX', 0)\n",
      "('ovde', 'PROPN', 0)\n",
      "('čuli', 'VERB', 0)\n",
      "('.', 'PUNCT', 0)\n",
      "\n",
      "\n"
     ]
    }
   ],
   "source": [
    "#each tuple contains a word, its POS tag, and the label of negative marker\n",
    "\n",
    "for arr in neg_arrays[:5]:\n",
    "    for t in arr:\n",
    "        print(t)\n",
    "    print('\\n')"
   ]
  },
  {
   "cell_type": "markdown",
   "id": "feb130b3",
   "metadata": {},
   "source": [
    "Now each sentence may be represented as a vector where 0 corresponds to a non-negative word and 1 or 2 corresponds to a negative element. Let's see it for the first twenty sentences of each subdataset."
   ]
  },
  {
   "cell_type": "code",
   "execution_count": 252,
   "id": "ce44f87d",
   "metadata": {},
   "outputs": [
    {
     "name": "stdout",
     "output_type": "stream",
     "text": [
      "[0, 0, 0, 0, 0, 0, 0, 0, 0, 0, 0, 0, 0, 0, 0, 0, 0, 0, 0, 0, 0, 0, 0, 0, 0, 0, 0, 0, 0, 0]\n",
      "[0, 0, 0, 0, 0, 0, 0, 0, 0, 0, 0, 0, 0, 0, 0, 0, 0, 0]\n",
      "[0, 0, 0, 1, 0, 0, 0, 0, 0, 0, 0, 0, 0, 0, 1, 0, 0, 0, 0, 0, 0, 0, 0, 0, 0, 0]\n",
      "[0, 0, 0, 0, 0, 0, 0, 0, 0, 0, 0, 0, 0, 0, 0, 0, 0, 0, 0, 0, 0, 0, 0, 0, 0, 0, 0, 2, 0, 0, 0]\n",
      "[0, 0, 0, 0, 0, 0, 0, 0, 0, 0, 0, 0, 0, 0, 0, 0, 0, 0, 0, 0, 0, 0, 0, 0, 0]\n",
      "[0, 0, 0, 0, 1, 0, 0, 0, 0, 0, 0, 0, 0, 0, 0, 0, 0, 0, 0, 0, 0, 0, 0, 0, 0]\n",
      "[0, 0, 0, 0, 0, 0, 0, 0, 0, 0, 0, 0, 0, 0, 0, 0, 0, 0, 0, 0, 0, 0, 1, 0, 0]\n",
      "[0, 0, 0, 0, 0, 0, 0, 0, 0, 0, 0, 0, 0, 0, 1, 0, 0, 0]\n",
      "[0, 0, 0, 0, 0, 0, 0, 0, 0, 0, 0, 0, 0, 0, 0, 0, 0, 0, 0, 0, 1, 0, 0, 0, 0, 0, 0, 0, 0, 0, 0, 0, 0, 0, 0]\n",
      "[0, 0, 0, 0, 0, 0, 0, 0, 0, 0, 0, 0, 0, 0, 0, 0, 0, 0, 0, 0, 0, 0, 0, 0, 0, 0, 0, 0, 0, 0, 0]\n",
      "[0, 0, 0, 0, 0, 0, 0, 0, 0, 0, 0, 0, 0, 0, 0, 0, 0, 0, 0, 0, 0, 0, 0, 1, 0, 0, 0, 0, 0, 0, 0, 0, 0, 0]\n",
      "[0, 0, 0, 0, 0, 0, 0, 0, 0, 0, 0, 0, 0, 0, 0, 0, 2, 0, 0, 0, 0, 0, 0, 0, 0, 0, 0, 0]\n",
      "[0, 0, 0, 0, 0, 0, 0, 0, 0, 0, 0, 0, 0, 0, 0, 0, 0, 0, 0, 0, 0, 0, 0, 1, 0, 0, 0, 0, 0, 0, 0]\n",
      "[0, 0, 0, 0, 0, 0, 0, 0, 0, 0, 0, 0, 0, 0, 0, 0, 0, 2, 0, 0, 0, 2, 0, 0, 0]\n",
      "[0, 0, 0, 0, 0, 0, 0, 0, 0, 0, 0, 0, 0, 0, 0, 0, 0, 0, 0, 0, 0, 0, 0, 0, 0, 0, 0, 0, 0, 0, 0, 0]\n",
      "[0, 0, 1, 0, 0, 0, 0, 0, 0, 0, 0, 0, 0, 0, 0, 0, 2, 0, 0, 2, 0, 0, 0, 0, 0, 0]\n",
      "[0, 0, 0, 0, 1, 0, 0, 0, 0, 0, 0, 0, 1, 0, 0, 0, 0, 0, 0, 0]\n",
      "[0, 0, 0, 0, 0, 0, 0, 0, 0, 0, 0, 0, 0, 0, 0, 0, 0, 0, 0, 0, 0, 0, 0, 0, 0, 0, 0, 1, 0, 0, 0, 0, 0]\n",
      "[0, 0, 0, 0, 0, 0, 0, 0, 0, 0, 0, 0, 0, 0, 2, 0]\n",
      "[0, 0, 0, 0, 0, 0, 0, 0, 0, 0, 0, 0, 0, 0, 0, 0, 0, 0, 0, 0, 0, 0, 0, 0, 0, 0]\n"
     ]
    }
   ],
   "source": [
    "#neg\n",
    "\n",
    "for arr in neg_arrays[:20]:\n",
    "    print([t[2] for t in arr])"
   ]
  },
  {
   "cell_type": "code",
   "execution_count": 253,
   "id": "5c62f392",
   "metadata": {},
   "outputs": [
    {
     "name": "stdout",
     "output_type": "stream",
     "text": [
      "[0, 0, 0, 0, 0, 0, 0, 0, 0, 0, 0, 0, 0, 0, 0, 0, 0, 0, 0, 0, 0, 0, 0, 0, 0, 0, 0, 0, 0, 0, 0, 0, 0, 0, 0, 0]\n",
      "[0, 0, 0, 0, 0, 0, 0, 0, 0, 0, 0, 0, 0, 0, 0, 0, 0, 0, 0, 0, 0]\n",
      "[0, 0, 0, 0, 0, 0, 0, 0, 0, 0, 0, 0, 0, 0, 0, 0]\n",
      "[0, 0, 0, 0, 0, 0, 0, 0, 0, 0, 0, 0, 0, 0, 0, 0, 0, 0, 0]\n",
      "[0, 0, 0, 0, 0, 0, 0, 0, 0, 0, 0, 0, 0, 0, 0, 0, 0, 0, 0, 0, 0, 0, 0, 0, 0, 0, 0, 0, 0, 1, 0, 0]\n",
      "[0, 0, 0, 0, 0, 0, 0, 0, 0, 0, 0, 0, 0, 0, 0, 0, 0, 0, 0, 0, 1, 0, 0]\n",
      "[0, 0, 0, 0, 0, 0, 0, 0, 0, 0, 0, 0, 0, 0, 0, 0, 0, 0, 0, 0, 0, 0, 0, 0, 0, 0, 0]\n",
      "[0, 0, 0, 0, 0, 0, 0, 0, 0, 0, 0, 0, 0, 0, 0, 0, 0, 0, 0, 0, 0, 0, 0, 0, 0, 0, 0, 0, 0, 0, 0]\n",
      "[0, 1, 0, 0, 0, 0, 1, 0, 0, 1, 0, 0, 0, 0, 0, 0]\n",
      "[0, 0, 0, 0, 0, 0, 0, 0, 0, 0, 0, 0, 0, 0, 0, 0, 0, 0, 0]\n",
      "[0, 0, 0, 0, 0, 0, 0, 0, 0, 0, 0, 0, 0, 0, 0, 0, 0, 0]\n",
      "[0, 0, 0, 0, 0, 0, 0, 0, 0, 0, 0, 0, 0, 0, 0, 0, 0, 0, 0, 0, 0, 0, 0, 0, 0, 0, 0, 0, 0, 0, 0, 0, 0]\n",
      "[0, 0, 0, 0, 0, 0, 0, 0, 0, 0, 0, 0, 0, 0, 0, 0, 0, 0, 0, 0, 0, 0, 0]\n",
      "[0, 0, 0, 0, 0, 0, 0, 0, 0, 0, 0, 0, 0]\n",
      "[0, 0, 0, 0, 0, 0, 0, 0, 0, 0, 0, 0, 0, 0, 0, 0, 0, 0, 0, 0, 0, 0, 0, 0, 0, 0, 0, 0, 0, 0, 0, 0, 0]\n",
      "[0, 0, 0, 0, 0, 0, 0, 0, 0, 0, 0, 0, 0, 0, 0, 0, 0, 0, 0, 0, 0, 0, 0, 0, 0, 0, 0, 0, 0, 0]\n",
      "[0, 0, 0, 0, 0, 0, 0, 0, 0, 0, 0, 0, 0, 0, 0, 0, 0, 0, 0, 0, 0, 0, 0, 0, 0, 0, 2, 0, 0, 0, 0, 0, 0, 0, 0]\n",
      "[0, 0, 0, 0, 0, 0, 0, 0, 0, 0, 0, 0, 0, 0, 0]\n",
      "[0, 0, 0, 0, 0, 0, 0, 0, 0, 0, 0, 0, 0, 0, 0, 0]\n",
      "[0, 0, 0, 1, 0, 0, 0, 0, 0, 0, 0, 0, 0, 0, 0, 0, 0, 0, 0, 0, 0, 0, 0, 0]\n"
     ]
    }
   ],
   "source": [
    "#pos\n",
    "\n",
    "for arr in pos_arrays[:20]:\n",
    "    print([t[2] for t in arr])"
   ]
  },
  {
   "cell_type": "code",
   "execution_count": 254,
   "id": "49234a1d",
   "metadata": {
    "scrolled": true
   },
   "outputs": [
    {
     "name": "stdout",
     "output_type": "stream",
     "text": [
      "[0, 0, 0, 0, 0, 0, 0, 0, 0, 0, 0, 0, 0, 0, 0, 0]\n",
      "[0, 0, 0, 0, 0, 0, 0, 0, 0, 0, 0, 0, 0, 0, 0, 0, 0, 0, 0, 0, 0, 0, 0]\n",
      "[0, 0, 0, 0, 0, 0, 0, 0, 0, 0, 0, 0, 0, 0, 0, 2, 0, 0, 0]\n",
      "[0, 0, 0, 0, 0, 0, 0, 0, 0, 0, 0, 0, 0, 0, 0, 0, 0, 0, 0, 0, 0, 0]\n",
      "[0, 0, 0, 0, 0, 0, 0, 0, 0, 0, 0, 0, 0, 0, 0, 0, 0, 0, 0, 0, 0, 0, 0, 0, 0, 2, 0, 0]\n",
      "[0, 0, 0, 0, 0, 0, 0, 0, 0, 0, 0, 0, 0, 0, 0, 0, 0, 0, 0, 0, 0, 0, 0]\n",
      "[0, 0, 0, 0, 0, 0, 0, 0, 0, 0, 0, 0, 0, 0, 0, 0, 0, 0, 0, 0]\n",
      "[0, 0, 0, 0, 0, 0, 0, 0, 0, 0, 0, 0, 0, 0, 0, 0, 0, 0, 0, 0, 0]\n",
      "[0, 0, 0, 0, 0, 0, 0, 0, 0, 0, 0, 0, 0, 0, 0, 0, 0, 0, 0, 0, 0]\n",
      "[0, 0, 0, 0, 0, 0, 0, 0, 0, 0, 0, 0, 0, 0, 0, 0, 0, 0, 0, 0, 0, 0]\n",
      "[0, 0, 0, 0, 0, 0, 0, 0, 0, 0, 0, 0, 0, 0, 0, 0, 0, 0]\n",
      "[0, 0, 0, 0, 0, 0, 0, 0, 0, 0, 0, 0]\n",
      "[0, 0, 0, 0, 0, 0, 0, 0, 0, 0, 0, 0]\n",
      "[0, 0, 0, 0, 0, 0, 0, 0, 0, 0, 0, 0, 0, 0, 0, 0, 0, 0, 0, 0, 0, 0, 0, 0, 0, 0, 0, 0, 0, 0, 0]\n",
      "[0, 0, 0, 0, 0, 0, 0, 0, 0, 0, 0, 0, 0, 0, 0, 0, 0, 0, 0, 0, 0, 0, 0, 0, 0, 0]\n",
      "[0, 0, 0, 0, 0, 0, 0, 0, 0, 0, 0, 0, 0, 0, 0, 0, 0, 0, 0, 0, 0, 0, 0, 0, 0, 0, 0, 0, 0, 0]\n",
      "[0, 0, 0, 0, 0, 0, 0, 0, 0, 0, 0, 0, 0, 0, 0, 0, 0, 0, 0]\n",
      "[0, 0, 0, 0, 0, 0, 0, 0, 0, 0, 0, 0, 0, 0, 0, 0, 0, 0, 0, 0, 0]\n",
      "[0, 0, 0, 0, 0, 0, 0, 0, 0, 0, 0, 0, 0, 0, 0, 0, 0, 0, 0, 0, 0, 0, 0, 0, 0, 0, 0, 0]\n",
      "[0, 0, 0, 0, 0, 0, 0, 0, 0, 0, 0, 0, 0, 0]\n"
     ]
    }
   ],
   "source": [
    "#neut\n",
    "\n",
    "for arr in neut_arrays[:20]:\n",
    "    print([t[2] for t in arr])"
   ]
  },
  {
   "cell_type": "markdown",
   "id": "7b445efb",
   "metadata": {},
   "source": [
    "What is interesting for us now is what is the ratio of sentences containing (any) negative marker among negative, positive, and neutral sentences. It is performed with the following function:"
   ]
  },
  {
   "cell_type": "code",
   "execution_count": 255,
   "id": "0287cb43",
   "metadata": {},
   "outputs": [],
   "source": [
    "def count_neg(arrs):\n",
    "    neg_sents = 0\n",
    "    for arr in arrs:\n",
    "        if 1 in [t[2] for t in arr] or 2 in [t[2] for t in arr]: #if the sentence contains either sentential or constituent neg\n",
    "            neg_sents += 1\n",
    "    return neg_sents"
   ]
  },
  {
   "cell_type": "code",
   "execution_count": 256,
   "id": "27817488",
   "metadata": {},
   "outputs": [
    {
     "name": "stdout",
     "output_type": "stream",
     "text": [
      "Negative sentences with negation:  0.4631811487481591\n",
      "Positive sentences with negation:  0.16595744680851063\n",
      "Neutral sentences with negation:  0.18911917098445596\n"
     ]
    }
   ],
   "source": [
    "print('Negative sentences with negation: ', count_neg(neg_arrays)/len(neg_arrays))\n",
    "print('Positive sentences with negation: ',count_neg(pos_arrays)/len(pos_arrays))\n",
    "print('Neutral sentences with negation: ',count_neg(neut_arrays)/len(neut_arrays))"
   ]
  },
  {
   "cell_type": "markdown",
   "id": "fdb6a14d",
   "metadata": {},
   "source": [
    "Let's visualize it now"
   ]
  },
  {
   "cell_type": "code",
   "execution_count": 257,
   "id": "1effffe7",
   "metadata": {},
   "outputs": [],
   "source": [
    "def build_pie(arrays):\n",
    "    x = np.array([count_neg(arrays)/len(arrays), 1 - count_neg(arrays)/len(arrays)])\n",
    "    plt.pie(x, labels = ['Negation', 'No negation'])\n",
    "    plt.show()"
   ]
  },
  {
   "cell_type": "code",
   "execution_count": 258,
   "id": "4ac3782e",
   "metadata": {},
   "outputs": [
    {
     "data": {
      "image/png": "[encoded data removed]",
      "text/plain": [
       "<Figure size 432x288 with 1 Axes>"
      ]
     },
     "metadata": {},
     "output_type": "display_data"
    },
    {
     "data": {
      "image/png": "[encoded data removed]",
      "text/plain": [
       "<Figure size 432x288 with 1 Axes>"
      ]
     },
     "metadata": {},
     "output_type": "display_data"
    },
    {
     "data": {
      "image/png": "[encoded data removed]",
      "text/plain": [
       "<Figure size 432x288 with 1 Axes>"
      ]
     },
     "metadata": {},
     "output_type": "display_data"
    }
   ],
   "source": [
    "plt.title('Negative Sentences')\n",
    "build_pie(neg_arrays)\n",
    "\n",
    "plt.title('Positive Sentences')\n",
    "build_pie(pos_arrays)\n",
    "\n",
    "plt.title('Neutral Sentences')\n",
    "build_pie(neut_arrays)"
   ]
  },
  {
   "cell_type": "markdown",
   "id": "ac7dcbb8",
   "metadata": {},
   "source": [
    "We can already see that it is way more typically for the sentences labeled negative to contain negative markers than for the sentences labeled positive and neutral.\n",
    "\n",
    "What can we say on two types of negation? Does the distribution differ for sentential negation and constituent negation? Let's figure it out with the following function."
   ]
  },
  {
   "cell_type": "code",
   "execution_count": 259,
   "id": "8f6023c8",
   "metadata": {},
   "outputs": [],
   "source": [
    "def count_all_neg(arrs):\n",
    "    sent_neg = 0\n",
    "    const_neg = 0\n",
    "    both_neg = 0\n",
    "    no_neg = 0\n",
    "    for arr in arrs:\n",
    "        if 1 in [t[2] for t in arr]:\n",
    "            if 2 in [t[2] for t in arr]:\n",
    "                both_neg += 1 #for sentences containing both constituent and sentential negation\n",
    "            else:\n",
    "                sent_neg += 1 #for sentences containing sentential negation only\n",
    "        elif 2 in [t[2] for t in arr]:\n",
    "            const_neg += 1 #for sentences containing constituent negation only\n",
    "        else:\n",
    "            no_neg += 1 #for sentences without any negation\n",
    "    return np.array([no_neg, sent_neg, const_neg, both_neg])"
   ]
  },
  {
   "cell_type": "code",
   "execution_count": 260,
   "id": "4e65092b",
   "metadata": {},
   "outputs": [],
   "source": [
    "def build_another_pie(arrays):\n",
    "    plt.pie(count_all_neg(arrays), \n",
    "            labels = ['No negation', 'Sentential  Negation', 'Constituent negation', 'Both types of negation'])\n",
    "    plt.show()"
   ]
  },
  {
   "cell_type": "code",
   "execution_count": 261,
   "id": "2c245710",
   "metadata": {},
   "outputs": [
    {
     "data": {
      "image/png": "[encoded data removed]",
      "text/plain": [
       "<Figure size 432x288 with 1 Axes>"
      ]
     },
     "metadata": {},
     "output_type": "display_data"
    },
    {
     "data": {
      "image/png": "[encoded data removed]",
      "text/plain": [
       "<Figure size 432x288 with 1 Axes>"
      ]
     },
     "metadata": {},
     "output_type": "display_data"
    },
    {
     "data": {
      "image/png": "[encoded data removed]",
      "text/plain": [
       "<Figure size 432x288 with 1 Axes>"
      ]
     },
     "metadata": {},
     "output_type": "display_data"
    }
   ],
   "source": [
    "plt.title('Negative Sentences')\n",
    "build_another_pie(neg_arrays)\n",
    "\n",
    "plt.title('Positive Sentences')\n",
    "build_another_pie(pos_arrays)\n",
    "\n",
    "plt.title('Neutral sentences')\n",
    "build_another_pie(neut_arrays)"
   ]
  },
  {
   "cell_type": "markdown",
   "id": "aef2fd41",
   "metadata": {},
   "source": [
    "Thus, both constituent and sentential negation have a greater proportion among the negative sentences.\n",
    "\n",
    "There are still some things to check though. Could there possibly be some other grammatical features which tend to occur in negative-labeled sentences? What if there is an influence of the distribution of parts of speech?"
   ]
  },
  {
   "cell_type": "code",
   "execution_count": 262,
   "id": "d28988aa",
   "metadata": {},
   "outputs": [],
   "source": [
    "#this function counts parts-of-speech\n",
    "\n",
    "def count_pos(arr):\n",
    "    bag=[]\n",
    "    for sent in arr:\n",
    "        for word in sent:\n",
    "            bag.append(word[1])\n",
    "    return(Counter(bag))"
   ]
  },
  {
   "cell_type": "code",
   "execution_count": 263,
   "id": "01f68f38",
   "metadata": {},
   "outputs": [],
   "source": [
    "#getting POS-dictionaries\n",
    "pos_negative = count_pos(neg_arrays)\n",
    "pos_neutral = count_pos(neut_arrays)\n",
    "pos_positive = count_pos(pos_arrays)\n",
    "\n",
    "#sorting dictionaries by keys\n",
    "sorted_ng = sorted(list(pos_negative.keys()))\n",
    "sorted_neu = sorted(list(pos_neutral.keys()))\n",
    "sorted_ps = sorted(list(pos_positive.keys()))\n",
    "\n",
    "#making dictionaries to build a dataframe\n",
    "pos_negative = {k : pos_negative[k] for k in sorted_ng}\n",
    "pos_neutral = {k : pos_neutral[k] for k in sorted_neu}\n",
    "pos_positive = {k : pos_positive[k] for k in sorted_ps}"
   ]
  },
  {
   "cell_type": "code",
   "execution_count": 264,
   "id": "22bfd3f8",
   "metadata": {},
   "outputs": [
    {
     "name": "stdout",
     "output_type": "stream",
     "text": [
      "Negative sentences:  {'ADJ': 3182, 'ADP': 2429, 'ADV': 1954, 'AUX': 2243, 'CCONJ': 1712, 'DET': 2089, 'INTJ': 9, 'NOUN': 6991, 'NUM': 348, 'PART': 719, 'PRON': 1659, 'PROPN': 917, 'PUNCT': 3459, 'SCONJ': 1562, 'SYM': 42, 'VERB': 3523, 'X': 28}\n",
      "Neutral sentences:  {'ADJ': 2068, 'ADP': 1521, 'ADV': 815, 'AUX': 984, 'CCONJ': 791, 'DET': 854, 'INTJ': 2, 'NOUN': 4349, 'NUM': 232, 'PART': 207, 'PRON': 643, 'PROPN': 405, 'PUNCT': 1714, 'SCONJ': 550, 'SYM': 42, 'VERB': 1483, 'X': 10}\n",
      "Positive sentences:  {'ADJ': 1355, 'ADP': 907, 'ADV': 617, 'AUX': 700, 'CCONJ': 735, 'DET': 696, 'NOUN': 2810, 'NUM': 117, 'PART': 109, 'PRON': 509, 'PROPN': 296, 'PUNCT': 1104, 'SCONJ': 474, 'SYM': 23, 'VERB': 1139, 'X': 5}\n"
     ]
    }
   ],
   "source": [
    "print('Negative sentences: ', pos_negative)\n",
    "print('Neutral sentences: ', pos_neutral)\n",
    "print('Positive sentences: ', pos_positive)"
   ]
  },
  {
   "cell_type": "code",
   "execution_count": 265,
   "id": "7f235111",
   "metadata": {},
   "outputs": [
    {
     "data": {
      "text/html": [
       "<div>\n",
       "<style scoped>\n",
       "    .dataframe tbody tr th:only-of-type {\n",
       "        vertical-align: middle;\n",
       "    }\n",
       "\n",
       "    .dataframe tbody tr th {\n",
       "        vertical-align: top;\n",
       "    }\n",
       "\n",
       "    .dataframe thead th {\n",
       "        text-align: right;\n",
       "    }\n",
       "</style>\n",
       "<table border=\"1\" class=\"dataframe\">\n",
       "  <thead>\n",
       "    <tr style=\"text-align: right;\">\n",
       "      <th></th>\n",
       "      <th>ADJ</th>\n",
       "      <th>ADP</th>\n",
       "      <th>ADV</th>\n",
       "      <th>AUX</th>\n",
       "      <th>CCONJ</th>\n",
       "      <th>DET</th>\n",
       "      <th>NOUN</th>\n",
       "      <th>NUM</th>\n",
       "      <th>PART</th>\n",
       "      <th>PRON</th>\n",
       "      <th>PROPN</th>\n",
       "      <th>PUNCT</th>\n",
       "      <th>SCONJ</th>\n",
       "      <th>SYM</th>\n",
       "      <th>VERB</th>\n",
       "      <th>X</th>\n",
       "      <th>INTJ</th>\n",
       "    </tr>\n",
       "  </thead>\n",
       "  <tbody>\n",
       "    <tr>\n",
       "      <th>pos</th>\n",
       "      <td>1355</td>\n",
       "      <td>907</td>\n",
       "      <td>617</td>\n",
       "      <td>700</td>\n",
       "      <td>735</td>\n",
       "      <td>696</td>\n",
       "      <td>2810</td>\n",
       "      <td>117</td>\n",
       "      <td>109</td>\n",
       "      <td>509</td>\n",
       "      <td>296</td>\n",
       "      <td>1104</td>\n",
       "      <td>474</td>\n",
       "      <td>23</td>\n",
       "      <td>1139</td>\n",
       "      <td>5</td>\n",
       "      <td>0.0</td>\n",
       "    </tr>\n",
       "    <tr>\n",
       "      <th>neut</th>\n",
       "      <td>2068</td>\n",
       "      <td>1521</td>\n",
       "      <td>815</td>\n",
       "      <td>984</td>\n",
       "      <td>791</td>\n",
       "      <td>854</td>\n",
       "      <td>4349</td>\n",
       "      <td>232</td>\n",
       "      <td>207</td>\n",
       "      <td>643</td>\n",
       "      <td>405</td>\n",
       "      <td>1714</td>\n",
       "      <td>550</td>\n",
       "      <td>42</td>\n",
       "      <td>1483</td>\n",
       "      <td>10</td>\n",
       "      <td>2.0</td>\n",
       "    </tr>\n",
       "    <tr>\n",
       "      <th>neg</th>\n",
       "      <td>3182</td>\n",
       "      <td>2429</td>\n",
       "      <td>1954</td>\n",
       "      <td>2243</td>\n",
       "      <td>1712</td>\n",
       "      <td>2089</td>\n",
       "      <td>6991</td>\n",
       "      <td>348</td>\n",
       "      <td>719</td>\n",
       "      <td>1659</td>\n",
       "      <td>917</td>\n",
       "      <td>3459</td>\n",
       "      <td>1562</td>\n",
       "      <td>42</td>\n",
       "      <td>3523</td>\n",
       "      <td>28</td>\n",
       "      <td>9.0</td>\n",
       "    </tr>\n",
       "  </tbody>\n",
       "</table>\n",
       "</div>"
      ],
      "text/plain": [
       "       ADJ   ADP   ADV   AUX  CCONJ   DET  NOUN  NUM  PART  PRON  PROPN  \\\n",
       "pos   1355   907   617   700    735   696  2810  117   109   509    296   \n",
       "neut  2068  1521   815   984    791   854  4349  232   207   643    405   \n",
       "neg   3182  2429  1954  2243   1712  2089  6991  348   719  1659    917   \n",
       "\n",
       "      PUNCT  SCONJ  SYM  VERB   X  INTJ  \n",
       "pos    1104    474   23  1139   5   0.0  \n",
       "neut   1714    550   42  1483  10   2.0  \n",
       "neg    3459   1562   42  3523  28   9.0  "
      ]
     },
     "execution_count": 265,
     "metadata": {},
     "output_type": "execute_result"
    }
   ],
   "source": [
    "pos_df = pd.DataFrame([pos_positive, pos_neutral, pos_negative], index=['pos', 'neut', 'neg']).fillna(0)\n",
    "pos_df.head()"
   ]
  },
  {
   "cell_type": "markdown",
   "id": "f4df6dea",
   "metadata": {},
   "source": [
    "What is the relative frequency of each POS?"
   ]
  },
  {
   "cell_type": "code",
   "execution_count": 266,
   "id": "acbd9bf9",
   "metadata": {},
   "outputs": [
    {
     "data": {
      "text/html": [
       "<div>\n",
       "<style scoped>\n",
       "    .dataframe tbody tr th:only-of-type {\n",
       "        vertical-align: middle;\n",
       "    }\n",
       "\n",
       "    .dataframe tbody tr th {\n",
       "        vertical-align: top;\n",
       "    }\n",
       "\n",
       "    .dataframe thead th {\n",
       "        text-align: right;\n",
       "    }\n",
       "</style>\n",
       "<table border=\"1\" class=\"dataframe\">\n",
       "  <thead>\n",
       "    <tr style=\"text-align: right;\">\n",
       "      <th></th>\n",
       "      <th>ADJ</th>\n",
       "      <th>ADP</th>\n",
       "      <th>ADV</th>\n",
       "      <th>AUX</th>\n",
       "      <th>CCONJ</th>\n",
       "      <th>DET</th>\n",
       "      <th>NOUN</th>\n",
       "      <th>NUM</th>\n",
       "      <th>PART</th>\n",
       "      <th>PRON</th>\n",
       "      <th>PROPN</th>\n",
       "      <th>PUNCT</th>\n",
       "      <th>SCONJ</th>\n",
       "      <th>SYM</th>\n",
       "      <th>VERB</th>\n",
       "      <th>X</th>\n",
       "      <th>INTJ</th>\n",
       "    </tr>\n",
       "  </thead>\n",
       "  <tbody>\n",
       "    <tr>\n",
       "      <th>pos</th>\n",
       "      <td>0.116851</td>\n",
       "      <td>0.078217</td>\n",
       "      <td>0.053208</td>\n",
       "      <td>0.060366</td>\n",
       "      <td>0.063384</td>\n",
       "      <td>0.060021</td>\n",
       "      <td>0.242325</td>\n",
       "      <td>0.010090</td>\n",
       "      <td>0.009400</td>\n",
       "      <td>0.043894</td>\n",
       "      <td>0.025526</td>\n",
       "      <td>0.095205</td>\n",
       "      <td>0.040876</td>\n",
       "      <td>0.001983</td>\n",
       "      <td>0.098224</td>\n",
       "      <td>0.000431</td>\n",
       "      <td>0.000000</td>\n",
       "    </tr>\n",
       "    <tr>\n",
       "      <th>neut</th>\n",
       "      <td>0.124055</td>\n",
       "      <td>0.091242</td>\n",
       "      <td>0.048890</td>\n",
       "      <td>0.059028</td>\n",
       "      <td>0.047451</td>\n",
       "      <td>0.051230</td>\n",
       "      <td>0.260888</td>\n",
       "      <td>0.013917</td>\n",
       "      <td>0.012418</td>\n",
       "      <td>0.038572</td>\n",
       "      <td>0.024295</td>\n",
       "      <td>0.102819</td>\n",
       "      <td>0.032993</td>\n",
       "      <td>0.002519</td>\n",
       "      <td>0.088962</td>\n",
       "      <td>0.000600</td>\n",
       "      <td>0.000120</td>\n",
       "    </tr>\n",
       "    <tr>\n",
       "      <th>neg</th>\n",
       "      <td>0.096817</td>\n",
       "      <td>0.073906</td>\n",
       "      <td>0.059454</td>\n",
       "      <td>0.068247</td>\n",
       "      <td>0.052090</td>\n",
       "      <td>0.063561</td>\n",
       "      <td>0.212712</td>\n",
       "      <td>0.010588</td>\n",
       "      <td>0.021877</td>\n",
       "      <td>0.050478</td>\n",
       "      <td>0.027901</td>\n",
       "      <td>0.105246</td>\n",
       "      <td>0.047526</td>\n",
       "      <td>0.001278</td>\n",
       "      <td>0.107193</td>\n",
       "      <td>0.000852</td>\n",
       "      <td>0.000274</td>\n",
       "    </tr>\n",
       "  </tbody>\n",
       "</table>\n",
       "</div>"
      ],
      "text/plain": [
       "           ADJ       ADP       ADV       AUX     CCONJ       DET      NOUN  \\\n",
       "pos   0.116851  0.078217  0.053208  0.060366  0.063384  0.060021  0.242325   \n",
       "neut  0.124055  0.091242  0.048890  0.059028  0.047451  0.051230  0.260888   \n",
       "neg   0.096817  0.073906  0.059454  0.068247  0.052090  0.063561  0.212712   \n",
       "\n",
       "           NUM      PART      PRON     PROPN     PUNCT     SCONJ       SYM  \\\n",
       "pos   0.010090  0.009400  0.043894  0.025526  0.095205  0.040876  0.001983   \n",
       "neut  0.013917  0.012418  0.038572  0.024295  0.102819  0.032993  0.002519   \n",
       "neg   0.010588  0.021877  0.050478  0.027901  0.105246  0.047526  0.001278   \n",
       "\n",
       "          VERB         X      INTJ  \n",
       "pos   0.098224  0.000431  0.000000  \n",
       "neut  0.088962  0.000600  0.000120  \n",
       "neg   0.107193  0.000852  0.000274  "
      ]
     },
     "execution_count": 266,
     "metadata": {},
     "output_type": "execute_result"
    }
   ],
   "source": [
    "rel_pos_df = pos_df.div(pos_df.sum(axis=1), axis=0)\n",
    "rel_pos_df"
   ]
  },
  {
   "cell_type": "markdown",
   "id": "33b7c9a8",
   "metadata": {},
   "source": [
    "Now let's build a map. As we can see, there are no signiificant imbalancies between sentences labeled differently."
   ]
  },
  {
   "cell_type": "code",
   "execution_count": 267,
   "id": "f9faf83f",
   "metadata": {},
   "outputs": [
    {
     "data": {
      "image/png": "[encoded data removed]",
      "text/plain": [
       "<Figure size 432x288 with 2 Axes>"
      ]
     },
     "metadata": {
      "needs_background": "light"
     },
     "output_type": "display_data"
    }
   ],
   "source": [
    "sns.heatmap(rel_pos_df.transpose(), annot=True, fmt=\".3f\", cmap='BuPu')\n",
    "plt.show()"
   ]
  },
  {
   "cell_type": "markdown",
   "id": "3f0000df",
   "metadata": {},
   "source": [
    "## Modeling"
   ]
  },
  {
   "cell_type": "markdown",
   "id": "ad33b37e",
   "metadata": {},
   "source": [
    "We managed to find out that negative markers mostly occur in negative-labeled sentences. Now it is turn to implement the hypothesis into a model.\n",
    "\n",
    "I am going to use two classic approaches to sentiment analysis: bag-of-words and tf-idf approach. Each approach will be tested in three versions: a vanilla one (with no regard to negation, with all stopwords removed, including negative ones), the one with account for sentential negation, and the one with account for both sentential and constituent negation."
   ]
  },
  {
   "cell_type": "markdown",
   "id": "60cb1d81",
   "metadata": {},
   "source": [
    "### Bag-of-words sentiment analysis (vanilla)"
   ]
  },
  {
   "cell_type": "code",
   "execution_count": 268,
   "id": "3f9ce1ca",
   "metadata": {},
   "outputs": [
    {
     "name": "stdout",
     "output_type": "stream",
     "text": [
      "{'ovoj', 'deder', 'nema', 'hoće', 'još', 'bila', 'njim', 'nisu', 'htjedoh', 'doskoro', 'svog', 'meni', 'hura', 'željeo', 'bar', 'bijahu', 'moj', 'ovim', 'eto', 'bih', 'niste', 'uz', 'njihov', 'nećeš', 'htijasmo', 'je', 'de', 'ova', 'hej', 'u', 'sam', 'tvoj', 'djelomice', 'naše', 'mimo', 'njegova', 'svoja', 'ono', 'šta', 'mene', 'tako', 'eno', 'bijasmo', 'budući', 'želeći', 'moji', 'tada', 'zaista', 'moju', 'vam', 'gic', 'on', 'biste', 'gdjekoje', 'željeni', 'njezino', 'no', 'se', 'jesu', 'vama', 'prije', 'ponekad', 'svi', 'sebi', 'ta', 'vi', 'bio', 'čijim', 'njemu', 'ehe', 'pa', 'bude', 'al', 'dem', 'vjerovatno', 'željen', 'zum', 'već', 'vrh', 'ako', 'vjerojatno', 'moja', 'ikakvome', 'bili', 'evo', 's', 'na', 'oni', 'za', 'su', 'ni', 'htjeli', 'duž', 'naš', 'uzagrapce', 'kojima', 'ikakvom', 'zatim', 'jest', 'pored', 'njezina', 'tima', 'naša', 'im', 'bez', 'štogod', 'onoj', 'god', 'vašim', 'svoju', 'joj', 'do', 'njezin', 'au', 'iju', 'željela', 'ikakvih', 'će', 'po', 'o', 'čijem', 'mi', 'pod', 'tvoje', 'sasvim', 'tvoju', 'ikakvim', 'one', 'nismo', 'uzalud', 'onim', 'ti', 'drugdje', 'poimence', 'buć', 'koji', 'njoj', 'moje', 'uzduž', 'ćeš', 'baš', 'htijaste', 'htjele', 'donekle', 'jer', 'zato', 'kroz', 'vaše', 'ili', 'kao', 'bumo', 'bilo', 'me', 'tvoja', 'potajice', 'lani', 'to', 'te', 'samo', 'jedna', 'pak', 'našeg', 'pljus', 'jesmo', 'željele', 'si', 'djelomično', 'bum', 'svoje', 'podalje', 'njega', 'zimus', 'jesam', 'zar', 'e', 'njih', 'željenu', 'onu', 'dotle', 'dosad', 'ću', 'vas', 'kako', 'hoćeš', 'poizdalje', 'htijahu', 'drugamo', 'jeste', 'bijaste', 'nju', 'bi', 'ćete', 'čijima', 'ja', 'ikakvoj', 'htio', 'aha', 'ijuju', 'ikakvo', 'dotad', 'neke', 'nije', 'nikoji', 'koje', 'neki', 'od', 'postrance', 'usprkos', 'li', 'hoćete', 'nisi', 'netko', 'tim', 'ćemo', 'zbija', 'doista', 'valjda', 'željah', 'zbog', 'ikakvog', 'njihovo', 'i', 'sva', 'njegovo', 'iz', 'uza', 'svoj', 'tome', 'svom', 'avaj', 'svu', 'dokle', 'ikakvima', 'ali', 'nikoga', 'ste', 'vaša', 'tvoji', 'ga', 'sve', 'jesi', 'tebi', 'nama', 'što', 'ikakvoga', 'ikakve', 'željelo', 'šic', 'nisam', 'dakle', 'toj', 'vašima', 'arh', 'budavši', 'nego', 'onom', 'bismo', 'ju', 'koja', 'htjedoše', 'nad', 'ah', 'željena', 'koju', 'hoću', 'budite', 'ona', 'hm', 'ovaj', 'sav', 'a', 'nešto', 'dovečer', 'kada', 'nikoje', 'uvijek', 'nam', 'štagod', 'budimo', 'njihova', 'nikoju', 'eh', 'njegov', 'gdjekakav', 'sebe', 'željene', 'nekog', 'tebe', 'ej', 'htjela', 'neku', 'ikakvi', 'onima', 'jedni', 'vrlo', 'iako', 'smo', 'brr', 'ovima', 'naši', 'odmah', 'daj', 'nećete', 'htjedoste', 'jedne', 'ih', 'jim', 'bijaše', 'jedno', 'bijah', 'aj', 'njima', 'nakon', 'pouzdano', 'hoćemo', 'željeli', 'tu', 'hop', 'budu', 'mu', 'neka', 'sa', 'halo', 'vaš', 'dok', 'ikakav', 'utaman', 'nećemo', 'da', 'biti', 'nas', 'potrbuške', 'taj', 'neću', 'ikakva', 'ikada', 'neće', 'ne'}\n"
     ]
    }
   ],
   "source": [
    "#stopwords for BCS\n",
    "\n",
    "stopwords = nlp.Defaults.stop_words\n",
    "print(stopwords)"
   ]
  },
  {
   "cell_type": "markdown",
   "id": "b7f4c60f",
   "metadata": {},
   "source": [
    "Next, we shuffle the dataframe and initialize the corpus of texts to X variable, and the label vector to y. "
   ]
  },
  {
   "cell_type": "code",
   "execution_count": 269,
   "id": "75734f7d",
   "metadata": {},
   "outputs": [],
   "source": [
    "data = shuffle(df)\n",
    "\n",
    "X = data['sentence']\n",
    "data['label'].replace({'Neutral': 0, 'Positive': 0, 'Negative': 1}, inplace=True)\n",
    "y = data['label']"
   ]
  },
  {
   "cell_type": "code",
   "execution_count": 270,
   "id": "f68826cd",
   "metadata": {},
   "outputs": [
    {
     "data": {
      "text/html": [
       "<div>\n",
       "<style scoped>\n",
       "    .dataframe tbody tr th:only-of-type {\n",
       "        vertical-align: middle;\n",
       "    }\n",
       "\n",
       "    .dataframe tbody tr th {\n",
       "        vertical-align: top;\n",
       "    }\n",
       "\n",
       "    .dataframe thead th {\n",
       "        text-align: right;\n",
       "    }\n",
       "</style>\n",
       "<table border=\"1\" class=\"dataframe\">\n",
       "  <thead>\n",
       "    <tr style=\"text-align: right;\">\n",
       "      <th></th>\n",
       "      <th>sentence</th>\n",
       "      <th>country</th>\n",
       "      <th>round</th>\n",
       "      <th>annotator1</th>\n",
       "      <th>annotator2</th>\n",
       "      <th>reconciliation</th>\n",
       "      <th>label</th>\n",
       "      <th>document_id</th>\n",
       "      <th>sentence_id</th>\n",
       "      <th>date</th>\n",
       "      <th>name</th>\n",
       "      <th>party</th>\n",
       "      <th>gender</th>\n",
       "      <th>birth_year</th>\n",
       "      <th>split</th>\n",
       "    </tr>\n",
       "  </thead>\n",
       "  <tbody>\n",
       "    <tr>\n",
       "      <th>479</th>\n",
       "      <td>Kad su u pitanju droga i alkohol naravno da tu...</td>\n",
       "      <td>HR</td>\n",
       "      <td>first</td>\n",
       "      <td>Negative</td>\n",
       "      <td>Negative</td>\n",
       "      <td>None</td>\n",
       "      <td>1</td>\n",
       "      <td>64471</td>\n",
       "      <td>19</td>\n",
       "      <td>20101201</td>\n",
       "      <td>Stazić, Nenad</td>\n",
       "      <td>SDP</td>\n",
       "      <td>M</td>\n",
       "      <td>1957.0</td>\n",
       "      <td>test</td>\n",
       "    </tr>\n",
       "    <tr>\n",
       "      <th>1004</th>\n",
       "      <td>Naš lider dr Vojislav Šešelj se borio i danas ...</td>\n",
       "      <td>SRB</td>\n",
       "      <td>first</td>\n",
       "      <td>Positive</td>\n",
       "      <td>Positive</td>\n",
       "      <td>None</td>\n",
       "      <td>0</td>\n",
       "      <td>16320</td>\n",
       "      <td>7</td>\n",
       "      <td>20090325</td>\n",
       "      <td>Plužarević, Vitomir</td>\n",
       "      <td>SRS</td>\n",
       "      <td>M</td>\n",
       "      <td>1950.0</td>\n",
       "      <td>test</td>\n",
       "    </tr>\n",
       "    <tr>\n",
       "      <th>372</th>\n",
       "      <td>Nato savez tu se vjerojatno svi slažemo je prv...</td>\n",
       "      <td>HR</td>\n",
       "      <td>first</td>\n",
       "      <td>P_Neutral</td>\n",
       "      <td>P_Neutral</td>\n",
       "      <td>None</td>\n",
       "      <td>0</td>\n",
       "      <td>79328</td>\n",
       "      <td>51</td>\n",
       "      <td>20061207</td>\n",
       "      <td>Kajin, Damir</td>\n",
       "      <td>IDS</td>\n",
       "      <td>M</td>\n",
       "      <td>1962.0</td>\n",
       "      <td>train</td>\n",
       "    </tr>\n",
       "    <tr>\n",
       "      <th>2116</th>\n",
       "      <td>Ne, podsetio bih vas, da i u Drugom svetskom r...</td>\n",
       "      <td>SRB</td>\n",
       "      <td>second</td>\n",
       "      <td>None</td>\n",
       "      <td>P_Neutral</td>\n",
       "      <td>None</td>\n",
       "      <td>0</td>\n",
       "      <td>17204</td>\n",
       "      <td>16</td>\n",
       "      <td>20170526</td>\n",
       "      <td>Lazanski, Miroslav</td>\n",
       "      <td>SNS</td>\n",
       "      <td>M</td>\n",
       "      <td>1950.0</td>\n",
       "      <td>train</td>\n",
       "    </tr>\n",
       "    <tr>\n",
       "      <th>914</th>\n",
       "      <td>Mi žalimo zbog ubistva Đinđića, ali su ga ubil...</td>\n",
       "      <td>SRB</td>\n",
       "      <td>first</td>\n",
       "      <td>Negative</td>\n",
       "      <td>Negative</td>\n",
       "      <td>None</td>\n",
       "      <td>1</td>\n",
       "      <td>7471</td>\n",
       "      <td>10</td>\n",
       "      <td>20041027</td>\n",
       "      <td>Dačić, Ivica</td>\n",
       "      <td>SPS</td>\n",
       "      <td>M</td>\n",
       "      <td>1966.0</td>\n",
       "      <td>dev</td>\n",
       "    </tr>\n",
       "  </tbody>\n",
       "</table>\n",
       "</div>"
      ],
      "text/plain": [
       "                                               sentence country   round  \\\n",
       "479   Kad su u pitanju droga i alkohol naravno da tu...      HR   first   \n",
       "1004  Naš lider dr Vojislav Šešelj se borio i danas ...     SRB   first   \n",
       "372   Nato savez tu se vjerojatno svi slažemo je prv...      HR   first   \n",
       "2116  Ne, podsetio bih vas, da i u Drugom svetskom r...     SRB  second   \n",
       "914   Mi žalimo zbog ubistva Đinđića, ali su ga ubil...     SRB   first   \n",
       "\n",
       "     annotator1 annotator2 reconciliation  label  document_id  sentence_id  \\\n",
       "479    Negative   Negative           None      1        64471           19   \n",
       "1004   Positive   Positive           None      0        16320            7   \n",
       "372   P_Neutral  P_Neutral           None      0        79328           51   \n",
       "2116       None  P_Neutral           None      0        17204           16   \n",
       "914    Negative   Negative           None      1         7471           10   \n",
       "\n",
       "          date                 name party gender  birth_year  split  \n",
       "479   20101201        Stazić, Nenad   SDP      M      1957.0   test  \n",
       "1004  20090325  Plužarević, Vitomir   SRS      M      1950.0   test  \n",
       "372   20061207         Kajin, Damir   IDS      M      1962.0  train  \n",
       "2116  20170526   Lazanski, Miroslav   SNS      M      1950.0  train  \n",
       "914   20041027         Dačić, Ivica   SPS      M      1966.0    dev  "
      ]
     },
     "execution_count": 270,
     "metadata": {},
     "output_type": "execute_result"
    }
   ],
   "source": [
    "data.tail(5)"
   ]
  },
  {
   "cell_type": "code",
   "execution_count": 271,
   "id": "a40269e5",
   "metadata": {},
   "outputs": [
    {
     "data": {
      "text/plain": [
       "479     Kad su u pitanju droga i alkohol naravno da tu...\n",
       "1004    Naš lider dr Vojislav Šešelj se borio i danas ...\n",
       "372     Nato savez tu se vjerojatno svi slažemo je prv...\n",
       "2116    Ne, podsetio bih vas, da i u Drugom svetskom r...\n",
       "914     Mi žalimo zbog ubistva Đinđića, ali su ga ubil...\n",
       "Name: sentence, dtype: object"
      ]
     },
     "execution_count": 271,
     "metadata": {},
     "output_type": "execute_result"
    }
   ],
   "source": [
    "X.tail(5)"
   ]
  },
  {
   "cell_type": "code",
   "execution_count": 272,
   "id": "fb651487",
   "metadata": {},
   "outputs": [
    {
     "data": {
      "text/plain": [
       "479     1\n",
       "1004    0\n",
       "372     0\n",
       "2116    0\n",
       "914     1\n",
       "Name: label, dtype: int64"
      ]
     },
     "execution_count": 272,
     "metadata": {},
     "output_type": "execute_result"
    }
   ],
   "source": [
    "y.tail(5)"
   ]
  },
  {
   "cell_type": "markdown",
   "id": "e8a85fa3",
   "metadata": {},
   "source": [
    "To make the computations run, we must apply the vectorizer to the data, either Count Vectorizer (for BoW) or TF-IDF Vectorizer. Here comes the function:"
   ]
  },
  {
   "cell_type": "code",
   "execution_count": 273,
   "id": "0753e5a9",
   "metadata": {},
   "outputs": [],
   "source": [
    "def vectorize(vectorizer, stopwords, df):\n",
    "    vec = vectorizer(stop_words=stopwords)\n",
    "    df_transformed = vec.fit_transform(df)\n",
    "    return pd.DataFrame(df_transformed.toarray(), columns = vec.get_feature_names())"
   ]
  },
  {
   "cell_type": "code",
   "execution_count": 274,
   "id": "a3bb9e48",
   "metadata": {},
   "outputs": [
    {
     "name": "stderr",
     "output_type": "stream",
     "text": [
      "C:\\Users\\denis\\AppData\\Local\\Programs\\Python\\Python39\\lib\\site-packages\\sklearn\\utils\\deprecation.py:87: FutureWarning: Function get_feature_names is deprecated; get_feature_names is deprecated in 1.0 and will be removed in 1.2. Please use get_feature_names_out instead.\n",
      "  warnings.warn(msg, category=FutureWarning)\n"
     ]
    }
   ],
   "source": [
    "X_plain = vectorize(CountVectorizer, stopwords, X)"
   ]
  },
  {
   "cell_type": "code",
   "execution_count": 275,
   "id": "60124037",
   "metadata": {},
   "outputs": [
    {
     "name": "stdout",
     "output_type": "stream",
     "text": [
      "The dataframe contains data of 2600 sentences accounting with the total of 12834 words\n"
     ]
    }
   ],
   "source": [
    "print('The dataframe contains data of {0} sentences accounting with the total of {1} words'.format(*(X_plain.shape)))"
   ]
  },
  {
   "cell_type": "code",
   "execution_count": 276,
   "id": "50df62b5",
   "metadata": {},
   "outputs": [],
   "source": [
    "X_train, X_test, y_train, y_test = train_test_split(X_plain, y, test_size=0.2, random_state=100)"
   ]
  },
  {
   "cell_type": "code",
   "execution_count": 277,
   "id": "402e912e",
   "metadata": {},
   "outputs": [
    {
     "data": {
      "text/html": [
       "<div>\n",
       "<style scoped>\n",
       "    .dataframe tbody tr th:only-of-type {\n",
       "        vertical-align: middle;\n",
       "    }\n",
       "\n",
       "    .dataframe tbody tr th {\n",
       "        vertical-align: top;\n",
       "    }\n",
       "\n",
       "    .dataframe thead th {\n",
       "        text-align: right;\n",
       "    }\n",
       "</style>\n",
       "<table border=\"1\" class=\"dataframe\">\n",
       "  <thead>\n",
       "    <tr style=\"text-align: right;\">\n",
       "      <th></th>\n",
       "      <th>00</th>\n",
       "      <th>000</th>\n",
       "      <th>01</th>\n",
       "      <th>02</th>\n",
       "      <th>10</th>\n",
       "      <th>100</th>\n",
       "      <th>1000</th>\n",
       "      <th>100000</th>\n",
       "      <th>101</th>\n",
       "      <th>106</th>\n",
       "      <th>...</th>\n",
       "      <th>županiji</th>\n",
       "      <th>županijsko</th>\n",
       "      <th>županijskog</th>\n",
       "      <th>županiju</th>\n",
       "      <th>žurbu</th>\n",
       "      <th>žustru</th>\n",
       "      <th>žuti</th>\n",
       "      <th>žutilom</th>\n",
       "      <th>žutu</th>\n",
       "      <th>ѕdžc</th>\n",
       "    </tr>\n",
       "  </thead>\n",
       "  <tbody>\n",
       "    <tr>\n",
       "      <th>2556</th>\n",
       "      <td>0</td>\n",
       "      <td>0</td>\n",
       "      <td>0</td>\n",
       "      <td>0</td>\n",
       "      <td>0</td>\n",
       "      <td>0</td>\n",
       "      <td>0</td>\n",
       "      <td>0</td>\n",
       "      <td>0</td>\n",
       "      <td>0</td>\n",
       "      <td>...</td>\n",
       "      <td>0</td>\n",
       "      <td>0</td>\n",
       "      <td>0</td>\n",
       "      <td>0</td>\n",
       "      <td>0</td>\n",
       "      <td>0</td>\n",
       "      <td>0</td>\n",
       "      <td>0</td>\n",
       "      <td>0</td>\n",
       "      <td>0</td>\n",
       "    </tr>\n",
       "    <tr>\n",
       "      <th>1572</th>\n",
       "      <td>0</td>\n",
       "      <td>0</td>\n",
       "      <td>0</td>\n",
       "      <td>0</td>\n",
       "      <td>0</td>\n",
       "      <td>0</td>\n",
       "      <td>0</td>\n",
       "      <td>0</td>\n",
       "      <td>0</td>\n",
       "      <td>0</td>\n",
       "      <td>...</td>\n",
       "      <td>0</td>\n",
       "      <td>0</td>\n",
       "      <td>0</td>\n",
       "      <td>0</td>\n",
       "      <td>0</td>\n",
       "      <td>0</td>\n",
       "      <td>0</td>\n",
       "      <td>0</td>\n",
       "      <td>0</td>\n",
       "      <td>0</td>\n",
       "    </tr>\n",
       "    <tr>\n",
       "      <th>190</th>\n",
       "      <td>0</td>\n",
       "      <td>0</td>\n",
       "      <td>0</td>\n",
       "      <td>0</td>\n",
       "      <td>0</td>\n",
       "      <td>0</td>\n",
       "      <td>0</td>\n",
       "      <td>0</td>\n",
       "      <td>0</td>\n",
       "      <td>0</td>\n",
       "      <td>...</td>\n",
       "      <td>0</td>\n",
       "      <td>0</td>\n",
       "      <td>0</td>\n",
       "      <td>0</td>\n",
       "      <td>0</td>\n",
       "      <td>0</td>\n",
       "      <td>0</td>\n",
       "      <td>0</td>\n",
       "      <td>0</td>\n",
       "      <td>0</td>\n",
       "    </tr>\n",
       "    <tr>\n",
       "      <th>924</th>\n",
       "      <td>0</td>\n",
       "      <td>0</td>\n",
       "      <td>0</td>\n",
       "      <td>0</td>\n",
       "      <td>0</td>\n",
       "      <td>0</td>\n",
       "      <td>0</td>\n",
       "      <td>0</td>\n",
       "      <td>0</td>\n",
       "      <td>0</td>\n",
       "      <td>...</td>\n",
       "      <td>0</td>\n",
       "      <td>0</td>\n",
       "      <td>0</td>\n",
       "      <td>0</td>\n",
       "      <td>0</td>\n",
       "      <td>0</td>\n",
       "      <td>0</td>\n",
       "      <td>0</td>\n",
       "      <td>0</td>\n",
       "      <td>0</td>\n",
       "    </tr>\n",
       "    <tr>\n",
       "      <th>1957</th>\n",
       "      <td>0</td>\n",
       "      <td>0</td>\n",
       "      <td>0</td>\n",
       "      <td>0</td>\n",
       "      <td>0</td>\n",
       "      <td>0</td>\n",
       "      <td>0</td>\n",
       "      <td>0</td>\n",
       "      <td>0</td>\n",
       "      <td>0</td>\n",
       "      <td>...</td>\n",
       "      <td>0</td>\n",
       "      <td>0</td>\n",
       "      <td>0</td>\n",
       "      <td>0</td>\n",
       "      <td>0</td>\n",
       "      <td>0</td>\n",
       "      <td>0</td>\n",
       "      <td>0</td>\n",
       "      <td>0</td>\n",
       "      <td>0</td>\n",
       "    </tr>\n",
       "  </tbody>\n",
       "</table>\n",
       "<p>5 rows × 12834 columns</p>\n",
       "</div>"
      ],
      "text/plain": [
       "      00  000  01  02  10  100  1000  100000  101  106  ...  županiji  \\\n",
       "2556   0    0   0   0   0    0     0       0    0    0  ...         0   \n",
       "1572   0    0   0   0   0    0     0       0    0    0  ...         0   \n",
       "190    0    0   0   0   0    0     0       0    0    0  ...         0   \n",
       "924    0    0   0   0   0    0     0       0    0    0  ...         0   \n",
       "1957   0    0   0   0   0    0     0       0    0    0  ...         0   \n",
       "\n",
       "      županijsko  županijskog  županiju  žurbu  žustru  žuti  žutilom  žutu  \\\n",
       "2556           0            0         0      0       0     0        0     0   \n",
       "1572           0            0         0      0       0     0        0     0   \n",
       "190            0            0         0      0       0     0        0     0   \n",
       "924            0            0         0      0       0     0        0     0   \n",
       "1957           0            0         0      0       0     0        0     0   \n",
       "\n",
       "      ѕdžc  \n",
       "2556     0  \n",
       "1572     0  \n",
       "190      0  \n",
       "924      0  \n",
       "1957     0  \n",
       "\n",
       "[5 rows x 12834 columns]"
      ]
     },
     "execution_count": 277,
     "metadata": {},
     "output_type": "execute_result"
    }
   ],
   "source": [
    "X_train.head()"
   ]
  },
  {
   "cell_type": "markdown",
   "id": "192108d1",
   "metadata": {},
   "source": [
    "The dataframe contains no stopwords, neither positive nor negative auxiliaries can be found there. "
   ]
  },
  {
   "cell_type": "code",
   "execution_count": 278,
   "id": "c2d023dd",
   "metadata": {},
   "outputs": [
    {
     "data": {
      "text/plain": [
       "False"
      ]
     },
     "execution_count": 278,
     "metadata": {},
     "output_type": "execute_result"
    }
   ],
   "source": [
    "'bismo' in X_train.columns #AUX, 1SG"
   ]
  },
  {
   "cell_type": "code",
   "execution_count": 279,
   "id": "f7dae316",
   "metadata": {},
   "outputs": [
    {
     "data": {
      "text/plain": [
       "False"
      ]
     },
     "execution_count": 279,
     "metadata": {},
     "output_type": "execute_result"
    }
   ],
   "source": [
    "'nismo' in X_train.columns #sent neg"
   ]
  },
  {
   "cell_type": "markdown",
   "id": "c27488e8",
   "metadata": {},
   "source": [
    "Usual lexemes are all here:"
   ]
  },
  {
   "cell_type": "code",
   "execution_count": 280,
   "id": "a5a92444",
   "metadata": {},
   "outputs": [
    {
     "data": {
      "text/plain": [
       "True"
      ]
     },
     "execution_count": 280,
     "metadata": {},
     "output_type": "execute_result"
    }
   ],
   "source": [
    "'srbija' in X_train.columns"
   ]
  },
  {
   "cell_type": "markdown",
   "id": "168ec250",
   "metadata": {},
   "source": [
    "Things we need the most for the analysis are the classification algorithm (for our binary classification task, I am going to test logistic regression, decision tree, and SVM classifier), a quality metric (I will use accuracy as the main metric and F1-score to check if there is no particular problems like under- or overfitting), and a confusion matrix to visualize the First-Type and Second-Type Errors. The following function does all of these tasks."
   ]
  },
  {
   "cell_type": "code",
   "execution_count": 281,
   "id": "88535718",
   "metadata": {},
   "outputs": [],
   "source": [
    "def EvaluatePerformance(Classifier, X_train, y_train, X_test, y_test):\n",
    "    Classifier.fit(X_train, y_train) #fit the clf to the train data\n",
    "    y_pred = Classifier.predict(X_test) #predict the labels of the test sets\n",
    "    print('Training set score: {:2f}'.format(Classifier.score(X_train, y_train))) #training score (should be large)\n",
    "    print('Average test set score: {:2f}'.format(Classifier.score(X_test, y_test))) #test score (should be not so large)\n",
    "    print('F1-score: {:2f}'.format(f1_score(y_test, y_pred))) #the precision/recall balance in the test predictions\n",
    "    cm = confusion_matrix(y_test, y_pred, normalize='all')\n",
    "    cm_display = ConfusionMatrixDisplay(cm).plot()\n",
    "    return Classifier"
   ]
  },
  {
   "cell_type": "code",
   "execution_count": 282,
   "id": "f5d730a6",
   "metadata": {},
   "outputs": [
    {
     "name": "stdout",
     "output_type": "stream",
     "text": [
      "Training set score: 0.998077\n",
      "Average test set score: 0.651923\n",
      "F1-score: 0.673874\n"
     ]
    },
    {
     "data": {
      "image/png": "[encoded data removed]",
      "text/plain": [
       "<Figure size 432x288 with 2 Axes>"
      ]
     },
     "metadata": {
      "needs_background": "light"
     },
     "output_type": "display_data"
    }
   ],
   "source": [
    "logreg = EvaluatePerformance(LogisticRegression(), X_train, y_train, X_test, y_test)"
   ]
  },
  {
   "cell_type": "code",
   "execution_count": 283,
   "id": "1f96fe35",
   "metadata": {},
   "outputs": [
    {
     "name": "stdout",
     "output_type": "stream",
     "text": [
      "Training set score: 1.000000\n",
      "Average test set score: 0.567308\n",
      "F1-score: 0.625624\n"
     ]
    },
    {
     "data": {
      "image/png": "[encoded data removed]",
      "text/plain": [
       "<Figure size 432x288 with 2 Axes>"
      ]
     },
     "metadata": {
      "needs_background": "light"
     },
     "output_type": "display_data"
    }
   ],
   "source": [
    "dt = EvaluatePerformance(DecisionTreeClassifier(), X_train, y_train, X_test, y_test)"
   ]
  },
  {
   "cell_type": "code",
   "execution_count": 284,
   "id": "a7af55fa",
   "metadata": {},
   "outputs": [
    {
     "name": "stdout",
     "output_type": "stream",
     "text": [
      "Training set score: 1.000000\n",
      "Average test set score: 0.625000\n",
      "F1-score: 0.648649\n"
     ]
    },
    {
     "data": {
      "image/png": "[encoded data removed]",
      "text/plain": [
       "<Figure size 432x288 with 2 Axes>"
      ]
     },
     "metadata": {
      "needs_background": "light"
     },
     "output_type": "display_data"
    }
   ],
   "source": [
    "sv = EvaluatePerformance(svm.LinearSVC(), X_train, y_train, X_test, y_test)"
   ]
  },
  {
   "cell_type": "markdown",
   "id": "84b54fb1",
   "metadata": {},
   "source": [
    "### Bag-of-words with sentential negation"
   ]
  },
  {
   "cell_type": "markdown",
   "id": "26d0d1d6",
   "metadata": {},
   "source": [
    "Now, our dataframe will contain a column indicating if the sentence contains a sentential negation (i.e. either \"ne\" or negated auxiliary)"
   ]
  },
  {
   "cell_type": "code",
   "execution_count": 285,
   "id": "246f8b9b",
   "metadata": {},
   "outputs": [],
   "source": [
    "#list of stopwords but without sentential negation\n",
    "\n",
    "noneg_stopwords = []\n",
    "for word in stopwords:\n",
    "    if not word.startswith('ni') and word != 'ne':\n",
    "        noneg_stopwords.append(word)"
   ]
  },
  {
   "cell_type": "code",
   "execution_count": 286,
   "id": "a8c43225",
   "metadata": {},
   "outputs": [
    {
     "name": "stderr",
     "output_type": "stream",
     "text": [
      "C:\\Users\\denis\\AppData\\Local\\Programs\\Python\\Python39\\lib\\site-packages\\sklearn\\utils\\deprecation.py:87: FutureWarning: Function get_feature_names is deprecated; get_feature_names is deprecated in 1.0 and will be removed in 1.2. Please use get_feature_names_out instead.\n",
      "  warnings.warn(msg, category=FutureWarning)\n"
     ]
    }
   ],
   "source": [
    "X_sent_neg = vectorize(CountVectorizer, noneg_stopwords, X)"
   ]
  },
  {
   "cell_type": "code",
   "execution_count": 287,
   "id": "f7e12ec3",
   "metadata": {},
   "outputs": [
    {
     "data": {
      "text/plain": [
       "True"
      ]
     },
     "execution_count": 287,
     "metadata": {},
     "output_type": "execute_result"
    }
   ],
   "source": [
    "'nismo' in X_sent_neg.columns"
   ]
  },
  {
   "cell_type": "markdown",
   "id": "19ccfd22",
   "metadata": {},
   "source": [
    "Now we have negated aux in the data! Let's now remove the separate columns for negative markers and add one column showing whether there is a negative marker or not."
   ]
  },
  {
   "cell_type": "code",
   "execution_count": 288,
   "id": "9a882972",
   "metadata": {},
   "outputs": [],
   "source": [
    "def AddSentNeg(df):\n",
    "    df['is_sent_neg'] = np.where(((df['ne'] > 0) | (df['nisam'] > 0) | \\\n",
    "                                  (df['nisi'] > 0) | (df['nije'] > 0)| \\\n",
    "                                  (df['nismo'] > 0) | (df['niste'] > 0)| \\\n",
    "                                  (df['nisu'] > 0)), 1, 0)\n",
    "    df = df.drop(columns=['ne', 'nisam', 'nisi', 'nije', 'nismo', 'niste', 'nisu'])\n",
    "    return df"
   ]
  },
  {
   "cell_type": "code",
   "execution_count": 289,
   "id": "db746a94",
   "metadata": {},
   "outputs": [],
   "source": [
    "X_sent_neg = AddSentNeg(X_sent_neg)"
   ]
  },
  {
   "cell_type": "code",
   "execution_count": 290,
   "id": "daa251ee",
   "metadata": {},
   "outputs": [
    {
     "data": {
      "text/plain": [
       "0    1909\n",
       "1     691\n",
       "Name: is_sent_neg, dtype: int64"
      ]
     },
     "execution_count": 290,
     "metadata": {},
     "output_type": "execute_result"
    }
   ],
   "source": [
    "X_sent_neg['is_sent_neg'].value_counts()"
   ]
  },
  {
   "cell_type": "markdown",
   "id": "64ba15dc",
   "metadata": {},
   "source": [
    "We have no negative words in the data anymore:"
   ]
  },
  {
   "cell_type": "code",
   "execution_count": 291,
   "id": "1bd5b9fe",
   "metadata": {},
   "outputs": [
    {
     "data": {
      "text/plain": [
       "False"
      ]
     },
     "execution_count": 291,
     "metadata": {},
     "output_type": "execute_result"
    }
   ],
   "source": [
    "'nismo' in X_sent_neg.columns"
   ]
  },
  {
   "cell_type": "markdown",
   "id": "80046aae",
   "metadata": {},
   "source": [
    "Now we are coming to predictions"
   ]
  },
  {
   "cell_type": "code",
   "execution_count": 292,
   "id": "7e137c84",
   "metadata": {},
   "outputs": [],
   "source": [
    "X_train, X_test, y_train, y_test = train_test_split(X_sent_neg, y, test_size=0.2, random_state=100)"
   ]
  },
  {
   "cell_type": "code",
   "execution_count": 293,
   "id": "df1748b2",
   "metadata": {},
   "outputs": [
    {
     "name": "stdout",
     "output_type": "stream",
     "text": [
      "Training set score: 0.997115\n",
      "Average test set score: 0.667308\n",
      "F1-score: 0.676636\n"
     ]
    },
    {
     "data": {
      "image/png": "[encoded data removed]",
      "text/plain": [
       "<Figure size 432x288 with 2 Axes>"
      ]
     },
     "metadata": {
      "needs_background": "light"
     },
     "output_type": "display_data"
    }
   ],
   "source": [
    "logreg1 = EvaluatePerformance(LogisticRegression(), X_train, y_train, X_test, y_test)"
   ]
  },
  {
   "cell_type": "code",
   "execution_count": 294,
   "id": "5febed67",
   "metadata": {},
   "outputs": [
    {
     "name": "stdout",
     "output_type": "stream",
     "text": [
      "Training set score: 1.000000\n",
      "Average test set score: 0.611538\n",
      "F1-score: 0.617424\n"
     ]
    },
    {
     "data": {
      "image/png": "[encoded data removed]",
      "text/plain": [
       "<Figure size 432x288 with 2 Axes>"
      ]
     },
     "metadata": {
      "needs_background": "light"
     },
     "output_type": "display_data"
    }
   ],
   "source": [
    "dt1 = EvaluatePerformance(DecisionTreeClassifier(), X_train, y_train, X_test, y_test)"
   ]
  },
  {
   "cell_type": "code",
   "execution_count": 295,
   "id": "3baf695d",
   "metadata": {},
   "outputs": [
    {
     "name": "stdout",
     "output_type": "stream",
     "text": [
      "Training set score: 1.000000\n",
      "Average test set score: 0.634615\n",
      "F1-score: 0.649446\n"
     ]
    },
    {
     "data": {
      "image/png": "[encoded data removed]",
      "text/plain": [
       "<Figure size 432x288 with 2 Axes>"
      ]
     },
     "metadata": {
      "needs_background": "light"
     },
     "output_type": "display_data"
    }
   ],
   "source": [
    "sv1 = EvaluatePerformance(svm.LinearSVC(), X_train, y_train, X_test, y_test)"
   ]
  },
  {
   "cell_type": "markdown",
   "id": "a1ce17b5",
   "metadata": {},
   "source": [
    "For all the algorithms (maybe except SVM on some tests), the model seems to perform better! Now, we are looking at the constituent negation."
   ]
  },
  {
   "cell_type": "markdown",
   "id": "ac09c915",
   "metadata": {},
   "source": [
    "### Bag-of-words with sentential and constituent negation"
   ]
  },
  {
   "cell_type": "markdown",
   "id": "62f55d7c",
   "metadata": {},
   "source": [
    "Initialize a list of negative adjectives and nouns:"
   ]
  },
  {
   "cell_type": "code",
   "execution_count": 296,
   "id": "926cd379",
   "metadata": {},
   "outputs": [
    {
     "name": "stdout",
     "output_type": "stream",
     "text": [
      "There are 232 negative adjectives\n"
     ]
    }
   ],
   "source": [
    "const_neg = []\n",
    "\n",
    "for name in X_plain.columns:\n",
    "    if name.startswith('ne'):\n",
    "        if nlp(name)[0].pos_ == 'ADJ' or nlp(name)[0].pos_ == 'NOUN':\n",
    "            const_neg.append(name)\n",
    "\n",
    "print('There are {} negative adjectives'.format(len(const_neg)))"
   ]
  },
  {
   "cell_type": "code",
   "execution_count": 297,
   "id": "4fb958fd",
   "metadata": {},
   "outputs": [
    {
     "name": "stdout",
     "output_type": "stream",
     "text": [
      "['nebojšinu', 'nebrige', 'nebrojeno', 'nedavne', 'nedavnih', 'nedavnog', 'nedemokratskim', 'nedjeljom', 'nedobitna', 'nedopustiva']\n"
     ]
    }
   ],
   "source": [
    "print(const_neg[:10])"
   ]
  },
  {
   "cell_type": "markdown",
   "id": "50949c84",
   "metadata": {},
   "source": [
    "The following function will drop the columns corresponding to negative nouns and adjectives (i.e. the items with constituent negation) and add a column 'is_const' which will show whether such an item is present in a sentence or not (as 'is_sent' showed it for wide-scope negation)"
   ]
  },
  {
   "cell_type": "code",
   "execution_count": 298,
   "id": "217460da",
   "metadata": {},
   "outputs": [],
   "source": [
    "def AddConstNeg(df):\n",
    "    df['is_const_neg'] = np.where((df[const_neg] > 0).any(axis=1), 1, 0)\n",
    "    return df.drop(const_neg, axis=1)"
   ]
  },
  {
   "cell_type": "code",
   "execution_count": 299,
   "id": "f8defbae",
   "metadata": {},
   "outputs": [],
   "source": [
    "X_all_neg = X_sent_neg.copy()\n",
    "X_all_neg = AddConstNeg(X_all_neg)"
   ]
  },
  {
   "cell_type": "code",
   "execution_count": 300,
   "id": "ef66d728",
   "metadata": {},
   "outputs": [
    {
     "data": {
      "text/plain": [
       "0    2318\n",
       "1     282\n",
       "Name: is_const_neg, dtype: int64"
      ]
     },
     "execution_count": 300,
     "metadata": {},
     "output_type": "execute_result"
    }
   ],
   "source": [
    "X_all_neg['is_const_neg'].value_counts()"
   ]
  },
  {
   "cell_type": "markdown",
   "id": "14921b69",
   "metadata": {},
   "source": [
    "Are there negative adjectives?"
   ]
  },
  {
   "cell_type": "code",
   "execution_count": 301,
   "id": "773bc6ba",
   "metadata": {},
   "outputs": [
    {
     "data": {
      "text/plain": [
       "False"
      ]
     },
     "execution_count": 301,
     "metadata": {},
     "output_type": "execute_result"
    }
   ],
   "source": [
    "'nebojšinu' in X_all_neg.columns"
   ]
  },
  {
   "cell_type": "markdown",
   "id": "15f5776f",
   "metadata": {},
   "source": [
    "If no, let's turn to predictions"
   ]
  },
  {
   "cell_type": "code",
   "execution_count": 302,
   "id": "4ca0b5b1",
   "metadata": {},
   "outputs": [],
   "source": [
    "X_train, X_test, y_train, y_test = train_test_split(X_all_neg, y, test_size=0.2, random_state=100)"
   ]
  },
  {
   "cell_type": "code",
   "execution_count": 303,
   "id": "ffe8327e",
   "metadata": {},
   "outputs": [
    {
     "name": "stdout",
     "output_type": "stream",
     "text": [
      "Training set score: 0.996154\n",
      "Average test set score: 0.667308\n",
      "F1-score: 0.684882\n"
     ]
    },
    {
     "data": {
      "image/png": "[encoded data removed]",
      "text/plain": [
       "<Figure size 432x288 with 2 Axes>"
      ]
     },
     "metadata": {
      "needs_background": "light"
     },
     "output_type": "display_data"
    }
   ],
   "source": [
    "logreg2 = EvaluatePerformance(LogisticRegression(), X_train, y_train, X_test, y_test)"
   ]
  },
  {
   "cell_type": "code",
   "execution_count": 304,
   "id": "01ec6437",
   "metadata": {},
   "outputs": [
    {
     "name": "stdout",
     "output_type": "stream",
     "text": [
      "Training set score: 1.000000\n",
      "Average test set score: 0.640385\n",
      "F1-score: 0.656881\n"
     ]
    },
    {
     "data": {
      "image/png": "[encoded data removed]",
      "text/plain": [
       "<Figure size 432x288 with 2 Axes>"
      ]
     },
     "metadata": {
      "needs_background": "light"
     },
     "output_type": "display_data"
    }
   ],
   "source": [
    "dt2 = EvaluatePerformance(DecisionTreeClassifier(), X_train, y_train, X_test, y_test)"
   ]
  },
  {
   "cell_type": "code",
   "execution_count": 305,
   "id": "4c5d0352",
   "metadata": {},
   "outputs": [
    {
     "name": "stdout",
     "output_type": "stream",
     "text": [
      "Training set score: 1.000000\n",
      "Average test set score: 0.636538\n",
      "F1-score: 0.651934\n"
     ]
    },
    {
     "data": {
      "image/png": "[encoded data removed]",
      "text/plain": [
       "<Figure size 432x288 with 2 Axes>"
      ]
     },
     "metadata": {
      "needs_background": "light"
     },
     "output_type": "display_data"
    }
   ],
   "source": [
    "sv2 = EvaluatePerformance(svm.LinearSVC(), X_train, y_train, X_test, y_test)"
   ]
  },
  {
   "cell_type": "markdown",
   "id": "d5575adc",
   "metadata": {},
   "source": [
    "We can see that for different algorithms, adding constituent negation parameter has different effects: while SVM usually performs better, decision tree and logistic regression usually do not improve with this condition."
   ]
  },
  {
   "cell_type": "markdown",
   "id": "49661a2e",
   "metadata": {},
   "source": [
    "### TF-IDF approach (vanilla)"
   ]
  },
  {
   "cell_type": "markdown",
   "id": "cb63e18b",
   "metadata": {},
   "source": [
    "TF-IDF approach has a chance to outperform the classic BoW given that it takes the local significance of each word into account. How does it perform on our data?\n",
    "\n",
    "In the following chuncks, we are going to do the same actions and apply the same classification algorithms, but with different encoder"
   ]
  },
  {
   "cell_type": "code",
   "execution_count": 306,
   "id": "541e6602",
   "metadata": {},
   "outputs": [
    {
     "name": "stderr",
     "output_type": "stream",
     "text": [
      "C:\\Users\\denis\\AppData\\Local\\Programs\\Python\\Python39\\lib\\site-packages\\sklearn\\utils\\deprecation.py:87: FutureWarning: Function get_feature_names is deprecated; get_feature_names is deprecated in 1.0 and will be removed in 1.2. Please use get_feature_names_out instead.\n",
      "  warnings.warn(msg, category=FutureWarning)\n"
     ]
    }
   ],
   "source": [
    "X_tfidf_plain = vectorize(TfidfVectorizer, stopwords, X)"
   ]
  },
  {
   "cell_type": "code",
   "execution_count": 307,
   "id": "c9813b78",
   "metadata": {},
   "outputs": [],
   "source": [
    "X_train, X_test, y_train, y_test = train_test_split(X_tfidf_plain, y, test_size=0.2, random_state=100)"
   ]
  },
  {
   "cell_type": "code",
   "execution_count": 308,
   "id": "2527c508",
   "metadata": {},
   "outputs": [
    {
     "name": "stdout",
     "output_type": "stream",
     "text": [
      "Training set score: 0.976442\n",
      "Average test set score: 0.651923\n",
      "F1-score: 0.704731\n"
     ]
    },
    {
     "data": {
      "image/png": "[encoded data removed]",
      "text/plain": [
       "<Figure size 432x288 with 2 Axes>"
      ]
     },
     "metadata": {
      "needs_background": "light"
     },
     "output_type": "display_data"
    }
   ],
   "source": [
    "tf_logreg = EvaluatePerformance(LogisticRegression(), X_train, y_train, X_test, y_test)"
   ]
  },
  {
   "cell_type": "code",
   "execution_count": 309,
   "id": "189dac21",
   "metadata": {},
   "outputs": [
    {
     "name": "stdout",
     "output_type": "stream",
     "text": [
      "Training set score: 1.000000\n",
      "Average test set score: 0.544231\n",
      "F1-score: 0.590674\n"
     ]
    },
    {
     "data": {
      "image/png": "[encoded data removed]",
      "text/plain": [
       "<Figure size 432x288 with 2 Axes>"
      ]
     },
     "metadata": {
      "needs_background": "light"
     },
     "output_type": "display_data"
    }
   ],
   "source": [
    "tf_dt = EvaluatePerformance(DecisionTreeClassifier(), X_train, y_train, X_test, y_test)"
   ]
  },
  {
   "cell_type": "code",
   "execution_count": 310,
   "id": "85b2334f",
   "metadata": {},
   "outputs": [
    {
     "name": "stdout",
     "output_type": "stream",
     "text": [
      "Training set score: 1.000000\n",
      "Average test set score: 0.650000\n",
      "F1-score: 0.684028\n"
     ]
    },
    {
     "data": {
      "image/png": "[encoded data removed]",
      "text/plain": [
       "<Figure size 432x288 with 2 Axes>"
      ]
     },
     "metadata": {
      "needs_background": "light"
     },
     "output_type": "display_data"
    }
   ],
   "source": [
    "tf_sv = EvaluatePerformance(svm.LinearSVC(), X_train, y_train, X_test, y_test)"
   ]
  },
  {
   "cell_type": "markdown",
   "id": "92708c39",
   "metadata": {},
   "source": [
    "It goes fairly well!"
   ]
  },
  {
   "cell_type": "markdown",
   "id": "87adca76",
   "metadata": {},
   "source": [
    "### TF-IDF with sentential negation"
   ]
  },
  {
   "cell_type": "code",
   "execution_count": 311,
   "id": "9eae1850",
   "metadata": {},
   "outputs": [
    {
     "name": "stderr",
     "output_type": "stream",
     "text": [
      "C:\\Users\\denis\\AppData\\Local\\Programs\\Python\\Python39\\lib\\site-packages\\sklearn\\utils\\deprecation.py:87: FutureWarning: Function get_feature_names is deprecated; get_feature_names is deprecated in 1.0 and will be removed in 1.2. Please use get_feature_names_out instead.\n",
      "  warnings.warn(msg, category=FutureWarning)\n"
     ]
    }
   ],
   "source": [
    "X_tfidf_sent_neg = vectorize(TfidfVectorizer, noneg_stopwords, X)"
   ]
  },
  {
   "cell_type": "code",
   "execution_count": 312,
   "id": "2f0d0997",
   "metadata": {},
   "outputs": [],
   "source": [
    "X_tfidf_sent_neg = AddSentNeg(X_tfidf_sent_neg)"
   ]
  },
  {
   "cell_type": "code",
   "execution_count": 313,
   "id": "33908179",
   "metadata": {},
   "outputs": [
    {
     "data": {
      "text/plain": [
       "0    1909\n",
       "1     691\n",
       "Name: is_sent_neg, dtype: int64"
      ]
     },
     "execution_count": 313,
     "metadata": {},
     "output_type": "execute_result"
    }
   ],
   "source": [
    "X_tfidf_sent_neg['is_sent_neg'].value_counts()"
   ]
  },
  {
   "cell_type": "code",
   "execution_count": 314,
   "id": "386006b0",
   "metadata": {},
   "outputs": [],
   "source": [
    "X_train, X_test, y_train, y_test = train_test_split(X_tfidf_sent_neg, y, test_size=0.2, random_state=100)"
   ]
  },
  {
   "cell_type": "code",
   "execution_count": 315,
   "id": "f8068692",
   "metadata": {},
   "outputs": [
    {
     "name": "stdout",
     "output_type": "stream",
     "text": [
      "Training set score: 0.906250\n",
      "Average test set score: 0.663462\n",
      "F1-score: 0.634656\n"
     ]
    },
    {
     "data": {
      "image/png": "[encoded data removed]",
      "text/plain": [
       "<Figure size 432x288 with 2 Axes>"
      ]
     },
     "metadata": {
      "needs_background": "light"
     },
     "output_type": "display_data"
    }
   ],
   "source": [
    "tf_logreg1 = EvaluatePerformance(LogisticRegression(), X_train, y_train, X_test, y_test)"
   ]
  },
  {
   "cell_type": "code",
   "execution_count": 316,
   "id": "1d947528",
   "metadata": {},
   "outputs": [
    {
     "name": "stdout",
     "output_type": "stream",
     "text": [
      "Training set score: 1.000000\n",
      "Average test set score: 0.613462\n",
      "F1-score: 0.597194\n"
     ]
    },
    {
     "data": {
      "image/png": "[encoded data removed]",
      "text/plain": [
       "<Figure size 432x288 with 2 Axes>"
      ]
     },
     "metadata": {
      "needs_background": "light"
     },
     "output_type": "display_data"
    }
   ],
   "source": [
    "tf_dt1 = EvaluatePerformance(DecisionTreeClassifier(), X_train, y_train, X_test, y_test)"
   ]
  },
  {
   "cell_type": "code",
   "execution_count": 317,
   "id": "e32cb828",
   "metadata": {},
   "outputs": [
    {
     "name": "stdout",
     "output_type": "stream",
     "text": [
      "Training set score: 1.000000\n",
      "Average test set score: 0.653846\n",
      "F1-score: 0.666667\n"
     ]
    },
    {
     "data": {
      "image/png": "[encoded data removed]",
      "text/plain": [
       "<Figure size 432x288 with 2 Axes>"
      ]
     },
     "metadata": {
      "needs_background": "light"
     },
     "output_type": "display_data"
    }
   ],
   "source": [
    "tf_sv1 = EvaluatePerformance(svm.LinearSVC(), X_train, y_train, X_test, y_test)"
   ]
  },
  {
   "cell_type": "markdown",
   "id": "6805e8fb",
   "metadata": {},
   "source": [
    "Apparently, on the majority of tests all three classifiers show better score. Let's turn to constituent negation"
   ]
  },
  {
   "cell_type": "markdown",
   "id": "ff6a90c0",
   "metadata": {},
   "source": [
    "### TF-IDF with sentential and constituent negation"
   ]
  },
  {
   "cell_type": "code",
   "execution_count": 318,
   "id": "a92a039d",
   "metadata": {},
   "outputs": [],
   "source": [
    "X_tfidf_all_neg = X_tfidf_sent_neg.copy()"
   ]
  },
  {
   "cell_type": "code",
   "execution_count": 319,
   "id": "c3cdb1a7",
   "metadata": {},
   "outputs": [],
   "source": [
    "X_tfidf_all_neg = AddConstNeg(X_tfidf_all_neg) "
   ]
  },
  {
   "cell_type": "code",
   "execution_count": 320,
   "id": "2228b797",
   "metadata": {},
   "outputs": [],
   "source": [
    "X_train, X_test, y_train, y_test = train_test_split(X_tfidf_all_neg, y, test_size=0.2, random_state=100)"
   ]
  },
  {
   "cell_type": "code",
   "execution_count": 321,
   "id": "39735ba1",
   "metadata": {},
   "outputs": [
    {
     "name": "stdout",
     "output_type": "stream",
     "text": [
      "Training set score: 0.874038\n",
      "Average test set score: 0.661538\n",
      "F1-score: 0.646586\n"
     ]
    },
    {
     "data": {
      "image/png": "[encoded data removed]",
      "text/plain": [
       "<Figure size 432x288 with 2 Axes>"
      ]
     },
     "metadata": {
      "needs_background": "light"
     },
     "output_type": "display_data"
    }
   ],
   "source": [
    "tf_logreg2 = EvaluatePerformance(LogisticRegression(), X_train, y_train, X_test, y_test)"
   ]
  },
  {
   "cell_type": "code",
   "execution_count": 322,
   "id": "2e2d2f09",
   "metadata": {},
   "outputs": [
    {
     "name": "stdout",
     "output_type": "stream",
     "text": [
      "Training set score: 1.000000\n",
      "Average test set score: 0.630769\n",
      "F1-score: 0.634981\n"
     ]
    },
    {
     "data": {
      "image/png": "[encoded data removed]",
      "text/plain": [
       "<Figure size 432x288 with 2 Axes>"
      ]
     },
     "metadata": {
      "needs_background": "light"
     },
     "output_type": "display_data"
    }
   ],
   "source": [
    "tf_dt2 = EvaluatePerformance(DecisionTreeClassifier(), X_train, y_train, X_test, y_test)"
   ]
  },
  {
   "cell_type": "code",
   "execution_count": 323,
   "id": "f2f38772",
   "metadata": {},
   "outputs": [
    {
     "name": "stdout",
     "output_type": "stream",
     "text": [
      "Training set score: 1.000000\n",
      "Average test set score: 0.671154\n",
      "F1-score: 0.689655\n"
     ]
    },
    {
     "data": {
      "image/png": "[encoded data removed]",
      "text/plain": [
       "<Figure size 432x288 with 2 Axes>"
      ]
     },
     "metadata": {
      "needs_background": "light"
     },
     "output_type": "display_data"
    }
   ],
   "source": [
    "tf_sv2 = EvaluatePerformance(svm.LinearSVC(), X_train, y_train, X_test, y_test)"
   ]
  },
  {
   "cell_type": "markdown",
   "id": "2bcf5c11",
   "metadata": {},
   "source": [
    "As in the case of BoW, logreg and decision tree do not face any positive changes. However, SVM tend to improve its score in the majority of tests. As a result, we claim the SVM TF-IDF model applied to all-negation dataset a winner.\n",
    "\n",
    "Could we tune it though?"
   ]
  },
  {
   "cell_type": "markdown",
   "id": "0838b70d",
   "metadata": {},
   "source": [
    "# Tuning the best model: GridSearch"
   ]
  },
  {
   "cell_type": "markdown",
   "id": "b487f9df",
   "metadata": {},
   "source": [
    "SVM has several hyperparameters: the regularization function used to avoid overfitting (either l1 or l2 regularization are available) and C parameter, which, conversely, reduces the strength of regularization to some extent. There are also several ways to compute loss function and update weights. What if we could improve our original score testing it with different hyperparameters?\n",
    "\n",
    "Let us implement the GridSearch algorithm to find best parameters"
   ]
  },
  {
   "cell_type": "code",
   "execution_count": 324,
   "id": "d70d4f6b",
   "metadata": {},
   "outputs": [],
   "source": [
    "params = {\"C\":np.arange(0.1, 1.1, 0.1), 'penalty':['l1', 'l2'], 'loss':['hinge', 'squared_hinge'],\n",
    "          \"class_weight\":['balanced', 'None']} \n",
    "#parameters to tune"
   ]
  },
  {
   "cell_type": "markdown",
   "id": "8c796741",
   "metadata": {},
   "source": [
    "Fist, recall what the algorithm had shown before tuning:"
   ]
  },
  {
   "cell_type": "code",
   "execution_count": 325,
   "id": "d04e2ccf",
   "metadata": {},
   "outputs": [
    {
     "name": "stdout",
     "output_type": "stream",
     "text": [
      "Training set score: 1.000000\n",
      "Average test set score: 0.671154\n",
      "F1-score: 0.689655\n"
     ]
    },
    {
     "data": {
      "text/html": [
       "<style>#sk-container-id-47 {color: black;background-color: white;}#sk-container-id-47 pre{padding: 0;}#sk-container-id-47 div.sk-toggleable {background-color: white;}#sk-container-id-47 label.sk-toggleable__label {cursor: pointer;display: block;width: 100%;margin-bottom: 0;padding: 0.3em;box-sizing: border-box;text-align: center;}#sk-container-id-47 label.sk-toggleable__label-arrow:before {content: \"▸\";float: left;margin-right: 0.25em;color: #696969;}#sk-container-id-47 label.sk-toggleable__label-arrow:hover:before {color: black;}#sk-container-id-47 div.sk-estimator:hover label.sk-toggleable__label-arrow:before {color: black;}#sk-container-id-47 div.sk-toggleable__content {max-height: 0;max-width: 0;overflow: hidden;text-align: left;background-color: #f0f8ff;}#sk-container-id-47 div.sk-toggleable__content pre {margin: 0.2em;color: black;border-radius: 0.25em;background-color: #f0f8ff;}#sk-container-id-47 input.sk-toggleable__control:checked~div.sk-toggleable__content {max-height: 200px;max-width: 100%;overflow: auto;}#sk-container-id-47 input.sk-toggleable__control:checked~label.sk-toggleable__label-arrow:before {content: \"▾\";}#sk-container-id-47 div.sk-estimator input.sk-toggleable__control:checked~label.sk-toggleable__label {background-color: #d4ebff;}#sk-container-id-47 div.sk-label input.sk-toggleable__control:checked~label.sk-toggleable__label {background-color: #d4ebff;}#sk-container-id-47 input.sk-hidden--visually {border: 0;clip: rect(1px 1px 1px 1px);clip: rect(1px, 1px, 1px, 1px);height: 1px;margin: -1px;overflow: hidden;padding: 0;position: absolute;width: 1px;}#sk-container-id-47 div.sk-estimator {font-family: monospace;background-color: #f0f8ff;border: 1px dotted black;border-radius: 0.25em;box-sizing: border-box;margin-bottom: 0.5em;}#sk-container-id-47 div.sk-estimator:hover {background-color: #d4ebff;}#sk-container-id-47 div.sk-parallel-item::after {content: \"\";width: 100%;border-bottom: 1px solid gray;flex-grow: 1;}#sk-container-id-47 div.sk-label:hover label.sk-toggleable__label {background-color: #d4ebff;}#sk-container-id-47 div.sk-serial::before {content: \"\";position: absolute;border-left: 1px solid gray;box-sizing: border-box;top: 0;bottom: 0;left: 50%;z-index: 0;}#sk-container-id-47 div.sk-serial {display: flex;flex-direction: column;align-items: center;background-color: white;padding-right: 0.2em;padding-left: 0.2em;position: relative;}#sk-container-id-47 div.sk-item {position: relative;z-index: 1;}#sk-container-id-47 div.sk-parallel {display: flex;align-items: stretch;justify-content: center;background-color: white;position: relative;}#sk-container-id-47 div.sk-item::before, #sk-container-id-47 div.sk-parallel-item::before {content: \"\";position: absolute;border-left: 1px solid gray;box-sizing: border-box;top: 0;bottom: 0;left: 50%;z-index: -1;}#sk-container-id-47 div.sk-parallel-item {display: flex;flex-direction: column;z-index: 1;position: relative;background-color: white;}#sk-container-id-47 div.sk-parallel-item:first-child::after {align-self: flex-end;width: 50%;}#sk-container-id-47 div.sk-parallel-item:last-child::after {align-self: flex-start;width: 50%;}#sk-container-id-47 div.sk-parallel-item:only-child::after {width: 0;}#sk-container-id-47 div.sk-dashed-wrapped {border: 1px dashed gray;margin: 0 0.4em 0.5em 0.4em;box-sizing: border-box;padding-bottom: 0.4em;background-color: white;}#sk-container-id-47 div.sk-label label {font-family: monospace;font-weight: bold;display: inline-block;line-height: 1.2em;}#sk-container-id-47 div.sk-label-container {text-align: center;}#sk-container-id-47 div.sk-container {/* jupyter's `normalize.less` sets `[hidden] { display: none; }` but bootstrap.min.css set `[hidden] { display: none !important; }` so we also need the `!important` here to be able to override the default hidden behavior on the sphinx rendered scikit-learn.org. See: https://github.com/scikit-learn/scikit-learn/issues/21755 */display: inline-block !important;position: relative;}#sk-container-id-47 div.sk-text-repr-fallback {display: none;}</style><div id=\"sk-container-id-47\" class=\"sk-top-container\"><div class=\"sk-text-repr-fallback\"><pre>LinearSVC()</pre><b>In a Jupyter environment, please rerun this cell to show the HTML representation or trust the notebook. <br />On GitHub, the HTML representation is unable to render, please try loading this page with nbviewer.org.</b></div><div class=\"sk-container\" hidden><div class=\"sk-item\"><div class=\"sk-estimator sk-toggleable\"><input class=\"sk-toggleable__control sk-hidden--visually\" id=\"sk-estimator-id-67\" type=\"checkbox\" checked><label for=\"sk-estimator-id-67\" class=\"sk-toggleable__label sk-toggleable__label-arrow\">LinearSVC</label><div class=\"sk-toggleable__content\"><pre>LinearSVC()</pre></div></div></div></div></div>"
      ],
      "text/plain": [
       "LinearSVC()"
      ]
     },
     "execution_count": 325,
     "metadata": {},
     "output_type": "execute_result"
    },
    {
     "data": {
      "image/png": "[encoded data removed]",
      "text/plain": [
       "<Figure size 432x288 with 2 Axes>"
      ]
     },
     "metadata": {
      "needs_background": "light"
     },
     "output_type": "display_data"
    }
   ],
   "source": [
    "X_train, X_test, y_train, y_test = train_test_split(X_tfidf_all_neg, y, test_size=0.2, random_state=100)\n",
    "EvaluatePerformance(svm.LinearSVC(), X_train, y_train, X_test, y_test)"
   ]
  },
  {
   "cell_type": "code",
   "execution_count": 326,
   "id": "71eb89d2",
   "metadata": {},
   "outputs": [
    {
     "data": {
      "text/html": [
       "<style>#sk-container-id-48 {color: black;background-color: white;}#sk-container-id-48 pre{padding: 0;}#sk-container-id-48 div.sk-toggleable {background-color: white;}#sk-container-id-48 label.sk-toggleable__label {cursor: pointer;display: block;width: 100%;margin-bottom: 0;padding: 0.3em;box-sizing: border-box;text-align: center;}#sk-container-id-48 label.sk-toggleable__label-arrow:before {content: \"▸\";float: left;margin-right: 0.25em;color: #696969;}#sk-container-id-48 label.sk-toggleable__label-arrow:hover:before {color: black;}#sk-container-id-48 div.sk-estimator:hover label.sk-toggleable__label-arrow:before {color: black;}#sk-container-id-48 div.sk-toggleable__content {max-height: 0;max-width: 0;overflow: hidden;text-align: left;background-color: #f0f8ff;}#sk-container-id-48 div.sk-toggleable__content pre {margin: 0.2em;color: black;border-radius: 0.25em;background-color: #f0f8ff;}#sk-container-id-48 input.sk-toggleable__control:checked~div.sk-toggleable__content {max-height: 200px;max-width: 100%;overflow: auto;}#sk-container-id-48 input.sk-toggleable__control:checked~label.sk-toggleable__label-arrow:before {content: \"▾\";}#sk-container-id-48 div.sk-estimator input.sk-toggleable__control:checked~label.sk-toggleable__label {background-color: #d4ebff;}#sk-container-id-48 div.sk-label input.sk-toggleable__control:checked~label.sk-toggleable__label {background-color: #d4ebff;}#sk-container-id-48 input.sk-hidden--visually {border: 0;clip: rect(1px 1px 1px 1px);clip: rect(1px, 1px, 1px, 1px);height: 1px;margin: -1px;overflow: hidden;padding: 0;position: absolute;width: 1px;}#sk-container-id-48 div.sk-estimator {font-family: monospace;background-color: #f0f8ff;border: 1px dotted black;border-radius: 0.25em;box-sizing: border-box;margin-bottom: 0.5em;}#sk-container-id-48 div.sk-estimator:hover {background-color: #d4ebff;}#sk-container-id-48 div.sk-parallel-item::after {content: \"\";width: 100%;border-bottom: 1px solid gray;flex-grow: 1;}#sk-container-id-48 div.sk-label:hover label.sk-toggleable__label {background-color: #d4ebff;}#sk-container-id-48 div.sk-serial::before {content: \"\";position: absolute;border-left: 1px solid gray;box-sizing: border-box;top: 0;bottom: 0;left: 50%;z-index: 0;}#sk-container-id-48 div.sk-serial {display: flex;flex-direction: column;align-items: center;background-color: white;padding-right: 0.2em;padding-left: 0.2em;position: relative;}#sk-container-id-48 div.sk-item {position: relative;z-index: 1;}#sk-container-id-48 div.sk-parallel {display: flex;align-items: stretch;justify-content: center;background-color: white;position: relative;}#sk-container-id-48 div.sk-item::before, #sk-container-id-48 div.sk-parallel-item::before {content: \"\";position: absolute;border-left: 1px solid gray;box-sizing: border-box;top: 0;bottom: 0;left: 50%;z-index: -1;}#sk-container-id-48 div.sk-parallel-item {display: flex;flex-direction: column;z-index: 1;position: relative;background-color: white;}#sk-container-id-48 div.sk-parallel-item:first-child::after {align-self: flex-end;width: 50%;}#sk-container-id-48 div.sk-parallel-item:last-child::after {align-self: flex-start;width: 50%;}#sk-container-id-48 div.sk-parallel-item:only-child::after {width: 0;}#sk-container-id-48 div.sk-dashed-wrapped {border: 1px dashed gray;margin: 0 0.4em 0.5em 0.4em;box-sizing: border-box;padding-bottom: 0.4em;background-color: white;}#sk-container-id-48 div.sk-label label {font-family: monospace;font-weight: bold;display: inline-block;line-height: 1.2em;}#sk-container-id-48 div.sk-label-container {text-align: center;}#sk-container-id-48 div.sk-container {/* jupyter's `normalize.less` sets `[hidden] { display: none; }` but bootstrap.min.css set `[hidden] { display: none !important; }` so we also need the `!important` here to be able to override the default hidden behavior on the sphinx rendered scikit-learn.org. See: https://github.com/scikit-learn/scikit-learn/issues/21755 */display: inline-block !important;position: relative;}#sk-container-id-48 div.sk-text-repr-fallback {display: none;}</style><div id=\"sk-container-id-48\" class=\"sk-top-container\"><div class=\"sk-text-repr-fallback\"><pre>GridSearchCV(cv=10, estimator=LinearSVC(),\n",
       "             param_grid={&#x27;C&#x27;: array([0.1, 0.2, 0.3, 0.4, 0.5, 0.6, 0.7, 0.8, 0.9, 1. ]),\n",
       "                         &#x27;class_weight&#x27;: [&#x27;balanced&#x27;, &#x27;None&#x27;],\n",
       "                         &#x27;loss&#x27;: [&#x27;hinge&#x27;, &#x27;squared_hinge&#x27;],\n",
       "                         &#x27;penalty&#x27;: [&#x27;l1&#x27;, &#x27;l2&#x27;]},\n",
       "             scoring=&#x27;accuracy&#x27;)</pre><b>In a Jupyter environment, please rerun this cell to show the HTML representation or trust the notebook. <br />On GitHub, the HTML representation is unable to render, please try loading this page with nbviewer.org.</b></div><div class=\"sk-container\" hidden><div class=\"sk-item sk-dashed-wrapped\"><div class=\"sk-label-container\"><div class=\"sk-label sk-toggleable\"><input class=\"sk-toggleable__control sk-hidden--visually\" id=\"sk-estimator-id-68\" type=\"checkbox\" ><label for=\"sk-estimator-id-68\" class=\"sk-toggleable__label sk-toggleable__label-arrow\">GridSearchCV</label><div class=\"sk-toggleable__content\"><pre>GridSearchCV(cv=10, estimator=LinearSVC(),\n",
       "             param_grid={&#x27;C&#x27;: array([0.1, 0.2, 0.3, 0.4, 0.5, 0.6, 0.7, 0.8, 0.9, 1. ]),\n",
       "                         &#x27;class_weight&#x27;: [&#x27;balanced&#x27;, &#x27;None&#x27;],\n",
       "                         &#x27;loss&#x27;: [&#x27;hinge&#x27;, &#x27;squared_hinge&#x27;],\n",
       "                         &#x27;penalty&#x27;: [&#x27;l1&#x27;, &#x27;l2&#x27;]},\n",
       "             scoring=&#x27;accuracy&#x27;)</pre></div></div></div><div class=\"sk-parallel\"><div class=\"sk-parallel-item\"><div class=\"sk-item\"><div class=\"sk-label-container\"><div class=\"sk-label sk-toggleable\"><input class=\"sk-toggleable__control sk-hidden--visually\" id=\"sk-estimator-id-69\" type=\"checkbox\" ><label for=\"sk-estimator-id-69\" class=\"sk-toggleable__label sk-toggleable__label-arrow\">estimator: LinearSVC</label><div class=\"sk-toggleable__content\"><pre>LinearSVC()</pre></div></div></div><div class=\"sk-serial\"><div class=\"sk-item\"><div class=\"sk-estimator sk-toggleable\"><input class=\"sk-toggleable__control sk-hidden--visually\" id=\"sk-estimator-id-70\" type=\"checkbox\" ><label for=\"sk-estimator-id-70\" class=\"sk-toggleable__label sk-toggleable__label-arrow\">LinearSVC</label><div class=\"sk-toggleable__content\"><pre>LinearSVC()</pre></div></div></div></div></div></div></div></div></div></div>"
      ],
      "text/plain": [
       "GridSearchCV(cv=10, estimator=LinearSVC(),\n",
       "             param_grid={'C': array([0.1, 0.2, 0.3, 0.4, 0.5, 0.6, 0.7, 0.8, 0.9, 1. ]),\n",
       "                         'class_weight': ['balanced', 'None'],\n",
       "                         'loss': ['hinge', 'squared_hinge'],\n",
       "                         'penalty': ['l1', 'l2']},\n",
       "             scoring='accuracy')"
      ]
     },
     "execution_count": 326,
     "metadata": {},
     "output_type": "execute_result"
    }
   ],
   "source": [
    "svm_cv"
   ]
  },
  {
   "cell_type": "code",
   "execution_count": 327,
   "id": "977bbf4f",
   "metadata": {},
   "outputs": [
    {
     "name": "stderr",
     "output_type": "stream",
     "text": [
      "C:\\Users\\denis\\AppData\\Local\\Programs\\Python\\Python39\\lib\\site-packages\\sklearn\\model_selection\\_validation.py:378: FitFailedWarning: \n",
      "600 fits failed out of a total of 800.\n",
      "The score on these train-test partitions for these parameters will be set to nan.\n",
      "If these failures are not expected, you can try to debug them by setting error_score='raise'.\n",
      "\n",
      "Below are more details about the failures:\n",
      "--------------------------------------------------------------------------------\n",
      "100 fits failed with the following error:\n",
      "Traceback (most recent call last):\n",
      "  File \"C:\\Users\\denis\\AppData\\Local\\Programs\\Python\\Python39\\lib\\site-packages\\sklearn\\model_selection\\_validation.py\", line 686, in _fit_and_score\n",
      "    estimator.fit(X_train, y_train, **fit_params)\n",
      "  File \"C:\\Users\\denis\\AppData\\Local\\Programs\\Python\\Python39\\lib\\site-packages\\sklearn\\svm\\_classes.py\", line 257, in fit\n",
      "    self.coef_, self.intercept_, n_iter_ = _fit_liblinear(\n",
      "  File \"C:\\Users\\denis\\AppData\\Local\\Programs\\Python\\Python39\\lib\\site-packages\\sklearn\\svm\\_base.py\", line 1204, in _fit_liblinear\n",
      "    solver_type = _get_liblinear_solver_type(multi_class, penalty, loss, dual)\n",
      "  File \"C:\\Users\\denis\\AppData\\Local\\Programs\\Python\\Python39\\lib\\site-packages\\sklearn\\svm\\_base.py\", line 1043, in _get_liblinear_solver_type\n",
      "    raise ValueError(\n",
      "ValueError: Unsupported set of arguments: The combination of penalty='l1' and loss='hinge' is not supported, Parameters: penalty='l1', loss='hinge', dual=True\n",
      "\n",
      "--------------------------------------------------------------------------------\n",
      "100 fits failed with the following error:\n",
      "Traceback (most recent call last):\n",
      "  File \"C:\\Users\\denis\\AppData\\Local\\Programs\\Python\\Python39\\lib\\site-packages\\sklearn\\model_selection\\_validation.py\", line 686, in _fit_and_score\n",
      "    estimator.fit(X_train, y_train, **fit_params)\n",
      "  File \"C:\\Users\\denis\\AppData\\Local\\Programs\\Python\\Python39\\lib\\site-packages\\sklearn\\svm\\_classes.py\", line 257, in fit\n",
      "    self.coef_, self.intercept_, n_iter_ = _fit_liblinear(\n",
      "  File \"C:\\Users\\denis\\AppData\\Local\\Programs\\Python\\Python39\\lib\\site-packages\\sklearn\\svm\\_base.py\", line 1204, in _fit_liblinear\n",
      "    solver_type = _get_liblinear_solver_type(multi_class, penalty, loss, dual)\n",
      "  File \"C:\\Users\\denis\\AppData\\Local\\Programs\\Python\\Python39\\lib\\site-packages\\sklearn\\svm\\_base.py\", line 1043, in _get_liblinear_solver_type\n",
      "    raise ValueError(\n",
      "ValueError: Unsupported set of arguments: The combination of penalty='l1' and loss='squared_hinge' are not supported when dual=True, Parameters: penalty='l1', loss='squared_hinge', dual=True\n",
      "\n",
      "--------------------------------------------------------------------------------\n",
      "400 fits failed with the following error:\n",
      "Traceback (most recent call last):\n",
      "  File \"C:\\Users\\denis\\AppData\\Local\\Programs\\Python\\Python39\\lib\\site-packages\\sklearn\\model_selection\\_validation.py\", line 686, in _fit_and_score\n",
      "    estimator.fit(X_train, y_train, **fit_params)\n",
      "  File \"C:\\Users\\denis\\AppData\\Local\\Programs\\Python\\Python39\\lib\\site-packages\\sklearn\\svm\\_classes.py\", line 257, in fit\n",
      "    self.coef_, self.intercept_, n_iter_ = _fit_liblinear(\n",
      "  File \"C:\\Users\\denis\\AppData\\Local\\Programs\\Python\\Python39\\lib\\site-packages\\sklearn\\svm\\_base.py\", line 1169, in _fit_liblinear\n",
      "    class_weight_ = compute_class_weight(class_weight, classes=classes_, y=y)\n",
      "  File \"C:\\Users\\denis\\AppData\\Local\\Programs\\Python\\Python39\\lib\\site-packages\\sklearn\\utils\\class_weight.py\", line 60, in compute_class_weight\n",
      "    raise ValueError(\n",
      "ValueError: class_weight must be dict, 'balanced', or None, got: 'None'\n",
      "\n",
      "  warnings.warn(some_fits_failed_message, FitFailedWarning)\n",
      "C:\\Users\\denis\\AppData\\Local\\Programs\\Python\\Python39\\lib\\site-packages\\sklearn\\model_selection\\_search.py:953: UserWarning: One or more of the test scores are non-finite: [       nan 0.63221154        nan 0.65288462        nan        nan\n",
      "        nan        nan        nan 0.63221154        nan 0.66442308\n",
      "        nan        nan        nan        nan        nan 0.63221154\n",
      "        nan 0.67740385        nan        nan        nan        nan\n",
      "        nan 0.63413462        nan 0.68173077        nan        nan\n",
      "        nan        nan        nan 0.64086538        nan 0.68557692\n",
      "        nan        nan        nan        nan        nan 0.65096154\n",
      "        nan 0.68125           nan        nan        nan        nan\n",
      "        nan 0.66298077        nan 0.68509615        nan        nan\n",
      "        nan        nan        nan 0.67163462        nan 0.68221154\n",
      "        nan        nan        nan        nan        nan 0.68317308\n",
      "        nan 0.68317308        nan        nan        nan        nan\n",
      "        nan 0.68365385        nan 0.68221154        nan        nan\n",
      "        nan        nan]\n",
      "  warnings.warn(\n"
     ]
    },
    {
     "data": {
      "text/html": [
       "<style>#sk-container-id-49 {color: black;background-color: white;}#sk-container-id-49 pre{padding: 0;}#sk-container-id-49 div.sk-toggleable {background-color: white;}#sk-container-id-49 label.sk-toggleable__label {cursor: pointer;display: block;width: 100%;margin-bottom: 0;padding: 0.3em;box-sizing: border-box;text-align: center;}#sk-container-id-49 label.sk-toggleable__label-arrow:before {content: \"▸\";float: left;margin-right: 0.25em;color: #696969;}#sk-container-id-49 label.sk-toggleable__label-arrow:hover:before {color: black;}#sk-container-id-49 div.sk-estimator:hover label.sk-toggleable__label-arrow:before {color: black;}#sk-container-id-49 div.sk-toggleable__content {max-height: 0;max-width: 0;overflow: hidden;text-align: left;background-color: #f0f8ff;}#sk-container-id-49 div.sk-toggleable__content pre {margin: 0.2em;color: black;border-radius: 0.25em;background-color: #f0f8ff;}#sk-container-id-49 input.sk-toggleable__control:checked~div.sk-toggleable__content {max-height: 200px;max-width: 100%;overflow: auto;}#sk-container-id-49 input.sk-toggleable__control:checked~label.sk-toggleable__label-arrow:before {content: \"▾\";}#sk-container-id-49 div.sk-estimator input.sk-toggleable__control:checked~label.sk-toggleable__label {background-color: #d4ebff;}#sk-container-id-49 div.sk-label input.sk-toggleable__control:checked~label.sk-toggleable__label {background-color: #d4ebff;}#sk-container-id-49 input.sk-hidden--visually {border: 0;clip: rect(1px 1px 1px 1px);clip: rect(1px, 1px, 1px, 1px);height: 1px;margin: -1px;overflow: hidden;padding: 0;position: absolute;width: 1px;}#sk-container-id-49 div.sk-estimator {font-family: monospace;background-color: #f0f8ff;border: 1px dotted black;border-radius: 0.25em;box-sizing: border-box;margin-bottom: 0.5em;}#sk-container-id-49 div.sk-estimator:hover {background-color: #d4ebff;}#sk-container-id-49 div.sk-parallel-item::after {content: \"\";width: 100%;border-bottom: 1px solid gray;flex-grow: 1;}#sk-container-id-49 div.sk-label:hover label.sk-toggleable__label {background-color: #d4ebff;}#sk-container-id-49 div.sk-serial::before {content: \"\";position: absolute;border-left: 1px solid gray;box-sizing: border-box;top: 0;bottom: 0;left: 50%;z-index: 0;}#sk-container-id-49 div.sk-serial {display: flex;flex-direction: column;align-items: center;background-color: white;padding-right: 0.2em;padding-left: 0.2em;position: relative;}#sk-container-id-49 div.sk-item {position: relative;z-index: 1;}#sk-container-id-49 div.sk-parallel {display: flex;align-items: stretch;justify-content: center;background-color: white;position: relative;}#sk-container-id-49 div.sk-item::before, #sk-container-id-49 div.sk-parallel-item::before {content: \"\";position: absolute;border-left: 1px solid gray;box-sizing: border-box;top: 0;bottom: 0;left: 50%;z-index: -1;}#sk-container-id-49 div.sk-parallel-item {display: flex;flex-direction: column;z-index: 1;position: relative;background-color: white;}#sk-container-id-49 div.sk-parallel-item:first-child::after {align-self: flex-end;width: 50%;}#sk-container-id-49 div.sk-parallel-item:last-child::after {align-self: flex-start;width: 50%;}#sk-container-id-49 div.sk-parallel-item:only-child::after {width: 0;}#sk-container-id-49 div.sk-dashed-wrapped {border: 1px dashed gray;margin: 0 0.4em 0.5em 0.4em;box-sizing: border-box;padding-bottom: 0.4em;background-color: white;}#sk-container-id-49 div.sk-label label {font-family: monospace;font-weight: bold;display: inline-block;line-height: 1.2em;}#sk-container-id-49 div.sk-label-container {text-align: center;}#sk-container-id-49 div.sk-container {/* jupyter's `normalize.less` sets `[hidden] { display: none; }` but bootstrap.min.css set `[hidden] { display: none !important; }` so we also need the `!important` here to be able to override the default hidden behavior on the sphinx rendered scikit-learn.org. See: https://github.com/scikit-learn/scikit-learn/issues/21755 */display: inline-block !important;position: relative;}#sk-container-id-49 div.sk-text-repr-fallback {display: none;}</style><div id=\"sk-container-id-49\" class=\"sk-top-container\"><div class=\"sk-text-repr-fallback\"><pre>GridSearchCV(cv=10, estimator=LinearSVC(),\n",
       "             param_grid={&#x27;C&#x27;: array([0.1, 0.2, 0.3, 0.4, 0.5, 0.6, 0.7, 0.8, 0.9, 1. ]),\n",
       "                         &#x27;class_weight&#x27;: [&#x27;balanced&#x27;, &#x27;None&#x27;],\n",
       "                         &#x27;loss&#x27;: [&#x27;hinge&#x27;, &#x27;squared_hinge&#x27;],\n",
       "                         &#x27;penalty&#x27;: [&#x27;l1&#x27;, &#x27;l2&#x27;]},\n",
       "             scoring=&#x27;accuracy&#x27;)</pre><b>In a Jupyter environment, please rerun this cell to show the HTML representation or trust the notebook. <br />On GitHub, the HTML representation is unable to render, please try loading this page with nbviewer.org.</b></div><div class=\"sk-container\" hidden><div class=\"sk-item sk-dashed-wrapped\"><div class=\"sk-label-container\"><div class=\"sk-label sk-toggleable\"><input class=\"sk-toggleable__control sk-hidden--visually\" id=\"sk-estimator-id-71\" type=\"checkbox\" ><label for=\"sk-estimator-id-71\" class=\"sk-toggleable__label sk-toggleable__label-arrow\">GridSearchCV</label><div class=\"sk-toggleable__content\"><pre>GridSearchCV(cv=10, estimator=LinearSVC(),\n",
       "             param_grid={&#x27;C&#x27;: array([0.1, 0.2, 0.3, 0.4, 0.5, 0.6, 0.7, 0.8, 0.9, 1. ]),\n",
       "                         &#x27;class_weight&#x27;: [&#x27;balanced&#x27;, &#x27;None&#x27;],\n",
       "                         &#x27;loss&#x27;: [&#x27;hinge&#x27;, &#x27;squared_hinge&#x27;],\n",
       "                         &#x27;penalty&#x27;: [&#x27;l1&#x27;, &#x27;l2&#x27;]},\n",
       "             scoring=&#x27;accuracy&#x27;)</pre></div></div></div><div class=\"sk-parallel\"><div class=\"sk-parallel-item\"><div class=\"sk-item\"><div class=\"sk-label-container\"><div class=\"sk-label sk-toggleable\"><input class=\"sk-toggleable__control sk-hidden--visually\" id=\"sk-estimator-id-72\" type=\"checkbox\" ><label for=\"sk-estimator-id-72\" class=\"sk-toggleable__label sk-toggleable__label-arrow\">estimator: LinearSVC</label><div class=\"sk-toggleable__content\"><pre>LinearSVC()</pre></div></div></div><div class=\"sk-serial\"><div class=\"sk-item\"><div class=\"sk-estimator sk-toggleable\"><input class=\"sk-toggleable__control sk-hidden--visually\" id=\"sk-estimator-id-73\" type=\"checkbox\" ><label for=\"sk-estimator-id-73\" class=\"sk-toggleable__label sk-toggleable__label-arrow\">LinearSVC</label><div class=\"sk-toggleable__content\"><pre>LinearSVC()</pre></div></div></div></div></div></div></div></div></div></div>"
      ],
      "text/plain": [
       "GridSearchCV(cv=10, estimator=LinearSVC(),\n",
       "             param_grid={'C': array([0.1, 0.2, 0.3, 0.4, 0.5, 0.6, 0.7, 0.8, 0.9, 1. ]),\n",
       "                         'class_weight': ['balanced', 'None'],\n",
       "                         'loss': ['hinge', 'squared_hinge'],\n",
       "                         'penalty': ['l1', 'l2']},\n",
       "             scoring='accuracy')"
      ]
     },
     "execution_count": 327,
     "metadata": {},
     "output_type": "execute_result"
    }
   ],
   "source": [
    "svm_cv = GridSearchCV(svm.LinearSVC(), params, cv=10, scoring = 'accuracy')\n",
    "svm_cv.fit(X_train,y_train)"
   ]
  },
  {
   "cell_type": "code",
   "execution_count": 328,
   "id": "5b14988e",
   "metadata": {},
   "outputs": [
    {
     "name": "stdout",
     "output_type": "stream",
     "text": [
      "Best parameters:  {'C': 0.5, 'class_weight': 'balanced', 'loss': 'squared_hinge', 'penalty': 'l2'}\n",
      "Best score:  0.685576923076923\n"
     ]
    }
   ],
   "source": [
    "print('Best parameters: ', svm_cv.best_params_)\n",
    "print('Best score: ', svm_cv.best_score_)"
   ]
  },
  {
   "cell_type": "markdown",
   "id": "b4a4ca0b",
   "metadata": {},
   "source": [
    "Let's apply it to the test data"
   ]
  },
  {
   "cell_type": "code",
   "execution_count": 329,
   "id": "71360337",
   "metadata": {},
   "outputs": [
    {
     "name": "stdout",
     "output_type": "stream",
     "text": [
      "Average test set score: 0.667308\n",
      "F1-score: 0.676636\n"
     ]
    },
    {
     "data": {
      "text/plain": [
       "<sklearn.metrics._plot.confusion_matrix.ConfusionMatrixDisplay at 0x1832d1a9df0>"
      ]
     },
     "execution_count": 329,
     "metadata": {},
     "output_type": "execute_result"
    },
    {
     "data": {
      "image/png": "[encoded data removed]",
      "text/plain": [
       "<Figure size 432x288 with 2 Axes>"
      ]
     },
     "metadata": {
      "needs_background": "light"
     },
     "output_type": "display_data"
    }
   ],
   "source": [
    "clf = svm_cv.best_estimator_\n",
    "\n",
    "y_pred = clf.predict(X_test)\n",
    "print('Average test set score: {:2f}'.format(clf.score(X_test, y_test)))\n",
    "print('F1-score: {:2f}'.format(f1_score(y_test, y_pred)))\n",
    "\n",
    "cm = confusion_matrix(y_test, y_pred, normalize='all')\n",
    "ConfusionMatrixDisplay(cm).plot()"
   ]
  },
  {
   "cell_type": "markdown",
   "id": "52e067c6",
   "metadata": {},
   "source": [
    "Seems, it did not improve. At least, I tried\n",
    "\n",
    "<img src=\"https://i.imgur.com/HIJ2EXu.jpeg\"/>"
   ]
  },
  {
   "cell_type": "markdown",
   "id": "5ab7cb75",
   "metadata": {},
   "source": [
    "## Concluding remarks"
   ]
  },
  {
   "cell_type": "markdown",
   "id": "dc266b8f",
   "metadata": {},
   "source": [
    "It seems that taking the elements with constituent negation into account may be useful in sentiment analysis task. Howewer, while being useful for some of the algoriithms (like SVM), it does not show any significant result for Logistic Regression and Decision trees."
   ]
  },
  {
   "cell_type": "markdown",
   "id": "54933c39",
   "metadata": {},
   "source": [
    "## References\n",
    "\n",
    "Jahić & Vičič 2023 -- Jahić, S., & Vičič, J. (2023). Impact of Negation and AnA-Words on Overall Sentiment Value of the Text Written in the Bosnian Language. Applied Sciences, 13(13), 7760.\n",
    "\n",
    "Jia et al 2009 -- Jia, L., Yu, C., & Meng, W. (2009, November). The effect of negation on sentiment analysis and retrieval effectiveness. In Proceedings of the 18th ACM conference on Information and knowledge management (pp. 1827-1830).\n",
    "\n",
    "Ljajić & Marovac 2019 -- Ljajić, A., & Marovac, U. (2019). Improving sentiment analysis for twitter data by handling negation rules in the Serbian language. Computer Science and Information Systems, 16(1), 289-311.\n",
    "\n",
    "Sharif et al. 2016 -- Sharif, W., Samsudin, N. A., Deris, M. M., & Naseem, R. (2016, August). Effect of negation in sentiment analysis. In 2016 sixth international conference on innovative computing technology (intech) (pp. 718-723). IEEE.\n",
    "\n",
    "Wiegand et al. 2010 -- Wiegand, M., Balahur, A., Roth, B., Klakow, D., & Montoyo, A. (2010, July). A survey on the role of negation in sentiment analysis. In Proceedings of the workshop on negation and speculation in natural language processing (pp. 60-68)."
   ]
  }
 ],
 "metadata": {
  "kernelspec": {
   "display_name": "Python 3 (ipykernel)",
   "language": "python",
   "name": "python3"
  },
  "language_info": {
   "codemirror_mode": {
    "name": "ipython",
    "version": 3
   },
   "file_extension": ".py",
   "mimetype": "text/x-python",
   "name": "python",
   "nbconvert_exporter": "python",
   "pygments_lexer": "ipython3",
   "version": "3.9.13"
  }
 },
 "nbformat": 4,
 "nbformat_minor": 5
}
